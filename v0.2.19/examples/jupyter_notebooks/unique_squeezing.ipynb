{
 "cells": [
  {
   "attachments": {},
   "cell_type": "markdown",
   "metadata": {},
   "source": [
    "# Unique Steady-State Squeezing"
   ]
  },
  {
   "cell_type": "markdown",
   "metadata": {},
   "source": [
    "In this example we show the unique squeezing observed in a driven Dicke model described by $N$ two-level systems coupled to a quantized harmonic oscillator. First we present the full dynamics with a second order cumulant expansion. The Hamiltonian describing the system is"
   ]
  },
  {
   "cell_type": "markdown",
   "metadata": {},
   "source": [
    "\\begin{align}\n",
    "H = \\omega a^\\dagger a + \\frac{\\Omega}{2} \\sum_j  \\sigma^j_z + \\frac{g}{2} \\sum_j  (a^\\dagger + a) \\sigma^j_x + \\eta ( a \\, e^{i \\omega_\\mathrm{d} t} + a^\\dagger e^{-i \\omega_\\mathrm{d} t}),\n",
    "\\end{align}"
   ]
  },
  {
   "cell_type": "markdown",
   "metadata": {},
   "source": [
    "for $N = 1$ it describes the driven quantum Rabi model. Additionally the system features two decay channels, losses of the harmonic oscillator with rate $\\kappa$ and relaxation of the two-level system with rate $\\gamma$."
   ]
  },
  {
   "cell_type": "markdown",
   "metadata": {},
   "source": [
    "We start by loading the packages."
   ]
  },
  {
   "cell_type": "code",
   "execution_count": null,
   "metadata": {},
   "outputs": [],
   "source": [
    "using QuantumCumulants\n",
    "using OrdinaryDiffEq, ModelingToolkit\n",
    "using Plots\n",
    "nothing # hide"
   ]
  },
  {
   "cell_type": "markdown",
   "metadata": {},
   "source": [
    "We define the Hilbert space and the symbolic parameters of the system."
   ]
  },
  {
   "cell_type": "code",
   "execution_count": null,
   "metadata": {},
   "outputs": [],
   "source": [
    "# Define hilbert space\n",
    "hf = FockSpace(:harmonic)\n",
    "ha = NLevelSpace(Symbol(:spin),2)\n",
    "h = hf ⊗ ha\n",
    "\n",
    "# Paramter\n",
    "@cnumbers ω Ω ωd η κ g γ N \n",
    "@syms t::Real # time\n",
    "nothing # hide"
   ]
  },
  {
   "cell_type": "markdown",
   "metadata": {},
   "source": [
    "On the Hilbert space we create the destroy operator $a$ of the harmonic oscillator and the (indexed) transition operator $\\sigma_i^{xy}$ for the $i$-th two-level system. "
   ]
  },
  {
   "cell_type": "code",
   "execution_count": null,
   "metadata": {},
   "outputs": [],
   "source": [
    "@qnumbers a::Destroy(h)\n",
    "σ(x,y,i) = IndexedOperator(Transition(h,:σ,x,y),i)\n",
    "nothing # hide"
   ]
  },
  {
   "cell_type": "markdown",
   "metadata": {},
   "source": [
    "With the symbolic parameters, operators and indices we define the Hamiltonian and Liouvillian of the system."
   ]
  },
  {
   "cell_type": "code",
   "execution_count": null,
   "metadata": {},
   "outputs": [],
   "source": [
    "# Indices\n",
    "i = Index(h,:i,N,ha)\n",
    "j = Index(h,:j,N,ha)\n",
    "\n",
    "# Hamiltonian\n",
    "Hf =  ω*a'*a + η*(a'*exp(-1im*ωd*t) + a*exp(1im*ωd*t) )\n",
    "Ha =  Ω*Σ(σ(2,2,i)-σ(1,1,i),i)/2\n",
    "Hi =  g*Σ((σ(1,2,i)+σ(2,1,i))*(a + a'),i)/2\n",
    "H = Hf + Ha + Hi\n",
    "\n",
    "# Jump operators & and rates\n",
    "J = [a, σ(1,2,i)]\n",
    "rates = [κ, γ]\n",
    "nothing # hide"
   ]
  },
  {
   "cell_type": "markdown",
   "metadata": {},
   "source": [
    "First we derive the mean-field equations in second order for $\\langle a \\rangle$, $\\langle a^\\dagger a \\rangle$ and $\\langle \\sigma^{22}_j \\rangle$, then we complete the system to obtain a closed set of equations."
   ]
  },
  {
   "cell_type": "code",
   "execution_count": null,
   "metadata": {
    "scrolled": true
   },
   "outputs": [],
   "source": [
    "eqs = meanfield([a, a'a, σ(2,2,j)],H,J;rates=rates,order=2)\n",
    "nothing # hide"
   ]
  },
  {
   "cell_type": "markdown",
   "metadata": {},
   "source": [
    "\\begin{align}\n",
    "\\frac{d}{dt} \\langle a\\rangle  =& -0.5 i \\left( \\underset{i}{\\overset{N}{\\sum}} g  \\langle {\\sigma}_{i}^{{12}}\\rangle  + \\underset{i}{\\overset{N}{\\sum}} g  \\langle {\\sigma}_{i}^{{21}}\\rangle  \\right) -1 i \\eta e^{-1 i t {\\omega}d} -0.5 \\kappa \\langle a\\rangle  -1 i \\omega \\langle a\\rangle  \\\\\n",
    "\\frac{d}{dt} \\langle a^\\dagger  a\\rangle  =& 0.5 i \\left( \\underset{i}{\\overset{N}{\\sum}} g  \\langle a  {\\sigma}_{i}^{{12}}\\rangle  + \\underset{i}{\\overset{N}{\\sum}} g  \\langle a  {\\sigma}_{i}^{{21}}\\rangle  \\right) -0.5 i \\left( \\underset{i}{\\overset{N}{\\sum}} g  \\langle a^\\dagger  {\\sigma}_{i}^{{12}}\\rangle  + \\underset{i}{\\overset{N}{\\sum}} g  \\langle a^\\dagger  {\\sigma}_{i}^{{21}}\\rangle  \\right) -1.0 \\kappa \\langle a^\\dagger  a\\rangle  -1 i \\eta \\langle a^\\dagger\\rangle  e^{-1 i t {\\omega}d} + 1 i \\eta \\langle a\\rangle  e^{1 i t {\\omega}d} \\\\\n",
    "\\frac{d}{dt} \\langle {\\sigma}_{j}^{{22}}\\rangle  =& -1.0 \\gamma \\langle {\\sigma}_{j}^{{22}}\\rangle  -0.5 i g \\left( \\langle a^\\dagger  {\\sigma}_{j}^{{21}}\\rangle  + \\langle a  {\\sigma}_{j}^{{21}}\\rangle  \\right) + 0.5 i g \\left( \\langle a^\\dagger  {\\sigma}_{j}^{{12}}\\rangle  + \\langle a  {\\sigma}_{j}^{{12}}\\rangle  \\right)\n",
    "\\end{align}"
   ]
  },
  {
   "cell_type": "code",
   "execution_count": null,
   "metadata": {},
   "outputs": [],
   "source": [
    "eqs_c = complete(eqs)\n",
    "length(eqs_c)"
   ]
  },
  {
   "cell_type": "markdown",
   "metadata": {},
   "source": [
    "All two-level systems behave identically, due to this permutation symmetry of the system we can scale-up the equations."
   ]
  },
  {
   "cell_type": "code",
   "execution_count": null,
   "metadata": {},
   "outputs": [],
   "source": [
    "eqs_sc = scale(eqs_c)\n",
    "scale(eqs) # Example scaling on the first three equations\n",
    "nothing # hide"
   ]
  },
  {
   "cell_type": "markdown",
   "metadata": {},
   "source": [
    "\\begin{align}\n",
    "\\frac{d}{dt} \\langle a\\rangle  =& -0.5 i \\left( N g \\langle {\\sigma}_{1}^{{12}}\\rangle  + N g \\langle {\\sigma}_{1}^{{21}}\\rangle  \\right) -1 i \\eta e^{-1 i t {\\omega}d} -0.5 \\kappa \\langle a\\rangle  -1 i \\omega \\langle a\\rangle  \\\\\n",
    "\\frac{d}{dt} \\langle a^\\dagger  a\\rangle  =& -0.5 i \\left( N g \\langle a^\\dagger  {\\sigma}_{1}^{{12}}\\rangle  + N g \\langle a^\\dagger  {\\sigma}_{1}^{{21}}\\rangle  \\right) + 0.5 i \\left( N g \\langle a  {\\sigma}_{1}^{{12}}\\rangle  + N g \\langle a  {\\sigma}_{1}^{{21}}\\rangle  \\right) -1.0 \\kappa \\langle a^\\dagger  a\\rangle  -1 i \\eta \\langle a^\\dagger\\rangle  e^{-1 i t {\\omega}d} + 1 i \\eta \\langle a\\rangle  e^{1 i t {\\omega}d} \\\\\n",
    "\\frac{d}{dt} \\langle {\\sigma}_{1}^{{22}}\\rangle  =& 0.5 i g \\left( \\langle a^\\dagger  {\\sigma}_{1}^{{12}}\\rangle  + \\langle a  {\\sigma}_{1}^{{12}}\\rangle  \\right) -0.5 i g \\left( \\langle a^\\dagger  {\\sigma}_{1}^{{21}}\\rangle  + \\langle a  {\\sigma}_{1}^{{21}}\\rangle  \\right) -1.0 \\gamma \\langle {\\sigma}_{1}^{{22}}\\rangle \n",
    "\\end{align}"
   ]
  },
  {
   "cell_type": "markdown",
   "metadata": {},
   "source": [
    "To calculate the dynamics of the system we create a system of ordinary differential equations with its initial state and numerical parameters."
   ]
  },
  {
   "cell_type": "code",
   "execution_count": null,
   "metadata": {},
   "outputs": [],
   "source": [
    "# symbolic ordinary differential equation system\n",
    "@named sys = ODESystem(eqs_sc)\n",
    "\n",
    "# initial state \n",
    "u0 = zeros(ComplexF64, length(eqs_sc));\n",
    "\n",
    "# Parameters\n",
    "ω_ = 1.0\n",
    "Ω_ = 2e3ω_\n",
    "N_ = 1\n",
    "gc_ = sqrt(Ω_*ω_/N) # renormalization of coupling to keep the system intensive\n",
    "g_ = 0.9gc_\n",
    "η_ = 4ω_\n",
    "κ_ = ω_\n",
    "γ_ = ω_\n",
    "ωd_ = sqrt(1-g_^2/gc_^2)*ω_\n",
    "\n",
    "# symbolic and numeric parameter list\n",
    "ps = [ω , Ω , ωd , g , η , κ , γ , N ]\n",
    "p0 = [ω_, Ω_, ωd_, g_, η_, κ_, γ_, N_]\n",
    "nothing # hide"
   ]
  },
  {
   "cell_type": "markdown",
   "metadata": {},
   "source": [
    "We solve the dynamics for four different numbers of two-level systems $N = [1, 10, 20, 100]$."
   ]
  },
  {
   "cell_type": "code",
   "execution_count": null,
   "metadata": {},
   "outputs": [],
   "source": [
    "sol_ls = []\n",
    "N_ls = [1,2,10,100]\n",
    "for N_ in N_ls\n",
    "    p0_ = [ω_, Ω_, ωd_, g_, η_, κ_, γ_, N_]\n",
    "    prob = ODEProblem(sys,u0,(0.0, 4π/ωd_), ps.=>p0_)\n",
    "    sol = solve(prob,Tsit5(),reltol=1e-10,abstol=1e-10)\n",
    "    push!(sol_ls,sol)\n",
    "end"
   ]
  },
  {
   "cell_type": "code",
   "execution_count": null,
   "metadata": {},
   "outputs": [],
   "source": [
    "# plot results\n",
    "c_ls=[:black, :red, :blue, :cyan]\n",
    "p1 = plot(xlabel=\"ω t\", ylabel=\"Δ² O\")\n",
    "p2 = plot(xlabel=\"ω t\", ylabel=\"⟨σz⟩\")\n",
    "for i=1:length(N_ls)\n",
    "    sol = sol_ls[i]\n",
    "    t_ = sol.t\n",
    "    \n",
    "    sqx = sol[a'*a'] + sol[a*a] + 2*sol[a'*a] .+ 1 - (sol[a'] + sol[a]).^2\n",
    "    sqy = sol[a'*a'] + sol[a*a] - 2*sol[a'*a] .- 1 - (sol[a'] - sol[a]).^2\n",
    "    plot!(p1,t_,real.(sqx),label=\"N = $(N_ls[i])\",color=c_ls[i]) \n",
    "    plot!(p1,t_,-real.(sqy),ls=:dash,label=nothing,color=c_ls[i])\n",
    "\n",
    "    s22 = sol[σ(2,2,1)] \n",
    "    plot!(p2,t_,real.(2s22 .- 1),color=c_ls[i],label=nothing)\n",
    "end\n",
    "plot(p1, p2, layout=(1,2), size=(700,250),bottom_margin=5*Plots.mm, left_margin=5*Plots.mm)"
   ]
  },
  {
   "cell_type": "markdown",
   "metadata": {},
   "source": [
    "## Effective model"
   ]
  },
  {
   "cell_type": "markdown",
   "metadata": {},
   "source": [
    "For a suffeciently low excitation we can adiabatically elminate the dynamics of the two-level system(s). This leads to an effective Hamiltonian "
   ]
  },
  {
   "cell_type": "markdown",
   "metadata": {},
   "source": [
    "\\begin{align}\n",
    "H_\\mathrm{a} = \\omega a^\\dagger a - \\frac{g^2}{4 \\Omega}(a + a^\\dagger)^2 + \\eta ( a \\, e^{i \\omega_\\mathrm{d} t} + a^\\dagger e^{-i \\omega_\\mathrm{d} t}).\n",
    "\\end{align}"
   ]
  },
  {
   "cell_type": "markdown",
   "metadata": {},
   "source": [
    "We calculate now the dynamics for this effective model and compare it with the full system. Note that this Hamiltonian is quadratic, which means that a second order description is exact. "
   ]
  },
  {
   "cell_type": "code",
   "execution_count": null,
   "metadata": {},
   "outputs": [],
   "source": [
    "# effective Hamiltonian\n",
    "@cnumbers gΩ # g^2/4Ω\n",
    "H_a = Hf - gΩ*(a + a')^2\n",
    "\n",
    "eqs_a = meanfield([a, a'a, a*a],H_a,[a];rates=[κ],order=2)\n",
    "nothing # hide"
   ]
  },
  {
   "cell_type": "markdown",
   "metadata": {},
   "source": [
    "\\begin{align}\n",
    "\\frac{d}{dt} \\langle a\\rangle  =& 2 i g\\Omega \\left( \\langle a^\\dagger\\rangle  + \\langle a\\rangle  \\right) -1 i \\eta e^{-1 i t {\\omega}d} -0.5 \\kappa \\langle a\\rangle  -1 i \\omega \\langle a\\rangle  \\\\\n",
    "\\frac{d}{dt} \\langle a^\\dagger  a\\rangle  =& -1.0 \\kappa \\langle a^\\dagger  a\\rangle  + 2 i g\\Omega \\langle a^\\dagger  a^\\dagger\\rangle  -2 i g\\Omega \\langle a  a\\rangle  -1 i \\eta \\langle a^\\dagger\\rangle  e^{-1 i t {\\omega}d} + 1 i \\eta \\langle a\\rangle  e^{1 i t {\\omega}d} \\\\\n",
    "\\frac{d}{dt} \\langle a  a\\rangle  =& 2 i g\\Omega + 4 i g\\Omega \\left( \\langle a^\\dagger  a\\rangle  + \\langle a  a\\rangle  \\right) -1.0 \\kappa \\langle a  a\\rangle  -2 i \\omega \\langle a  a\\rangle  -2 i \\eta \\langle a\\rangle  e^{-1 i t {\\omega}d}\n",
    "\\end{align}"
   ]
  },
  {
   "cell_type": "code",
   "execution_count": null,
   "metadata": {},
   "outputs": [],
   "source": [
    "# symbolic ordinary differential equation system\n",
    "@named sys_a = ODESystem(eqs_a)\n",
    "\n",
    "# initial state \n",
    "u0_a = zeros(ComplexF64, length(eqs_a))\n",
    "\n",
    "# Additional parameter\n",
    "gΩ_ = g_^2/(4Ω_)\n",
    "\n",
    "# symbolic and numeric parameter list\n",
    "ps_a = [ω , ωd , η , κ , N , gΩ ]\n",
    "p0_a = [ω_, ωd_, η_, κ_, N_, gΩ_]\n",
    "\n",
    "# define and solve numeric ordinary differential equation problem\n",
    "prob_a = ODEProblem(sys_a,u0_a,(0.0, 4π/ωd_), ps_a.=>p0_a)\n",
    "sol_a = solve(prob_a,Tsit5(),reltol=1e-8,abstol=1e-8)\n",
    "nothing # hide"
   ]
  },
  {
   "cell_type": "code",
   "execution_count": null,
   "metadata": {},
   "outputs": [],
   "source": [
    "# plot results\n",
    "sol = sol_ls[4]\n",
    "t_ = sol.t\n",
    "sqx = sol[a'*a'] + sol[a*a] + 2*sol[a'*a] .+ 1 - (sol[a'] + sol[a]).^2\n",
    "sqy = sol[a'*a'] + sol[a*a] - 2*sol[a'*a] .- 1 - (sol[a'] - sol[a]).^2\n",
    "\n",
    "t_a = sol_a.t\n",
    "sqx_a = sol_a[a'*a'] + sol_a[a*a] + 2*sol_a[a'*a] .+ 1 - (sol_a[a'] + sol_a[a]).^2\n",
    "sqy_a = sol_a[a'*a'] + sol_a[a*a] - 2*sol_a[a'*a] .- 1 - (sol_a[a'] - sol_a[a]).^2\n",
    "\n",
    "p = plot(xlabel=\"ω t\", ylabel=\"Δ² O\")\n",
    "plot!(p,t_,real.(sqx),label=\"X - Full model\") \n",
    "plot!(p,t_,-real.(sqy),label=\"P - Full model\",ls=:dash)\n",
    "plot!(p,t_a,real.(sqx_a),label=\"X - Effective model\") \n",
    "plot!(p,t_a,-real.(sqy_a),label=\"P - Effective model\",ls=:dash)\n",
    "plot(p, size=(500,200))"
   ]
  },
  {
   "cell_type": "code",
   "execution_count": null,
   "metadata": {},
   "outputs": [],
   "source": []
  }
 ],
 "metadata": {
  "@webio": {
   "lastCommId": null,
   "lastKernelId": null
  },
  "kernelspec": {
   "display_name": "Julia 1.8.3",
   "language": "julia",
   "name": "julia-1.8"
  },
  "language_info": {
   "file_extension": ".jl",
   "mimetype": "application/julia",
   "name": "julia",
   "version": "1.8.3"
  }
 },
 "nbformat": 4,
 "nbformat_minor": 2
}
