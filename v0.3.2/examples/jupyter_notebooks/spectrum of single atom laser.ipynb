{
 "cells": [
  {
   "cell_type": "markdown",
   "metadata": {},
   "source": [
    "# Spectrum of a single-atom laser\n",
    "\n",
    "In this example, we will compute the spectrum of the single-atom laser, which is also shown in the [Tutorial](@ref). The Hamitlonian of the system is\n",
    "\n",
    "$H = \\Delta a^\\dagger a + g\\left(a^\\dagger \\sigma^{ge} + a\\sigma^{eg}\\right),$\n",
    "\n",
    "where $\\Delta = \\omega_\\mathrm{c} - \\omega_\\mathrm{a}$ is the detuning between the cavity and the atomic resonance frequency, respectively. The cavity loses photons at a rate $\\kappa$, and the atom is subject to spontaneous emission with a rate $\\gamma$. Additionally, the atom is incoherently driven with a rate $\\nu$, such that it can provide lasing gain to the system. We start, by specifying this model.\n",
    "\n"
   ]
  },
  {
   "cell_type": "code",
   "execution_count": null,
   "metadata": {},
   "outputs": [],
   "source": [
    "using QuantumCumulants\n",
    "using ModelingToolkit, OrdinaryDiffEq\n",
    "using Plots\n",
    "\n",
    "# Define parameters\n",
    "@cnumbers Δ g γ κ ν\n",
    "\n",
    "# Define hilbert space\n",
    "hf = FockSpace(:cavity)\n",
    "ha = NLevelSpace(:atom,(:g,:e))\n",
    "h = hf ⊗ ha\n",
    "\n",
    "# Define the fundamental operators\n",
    "a = Destroy(h,:a)\n",
    "s = Transition(h,:σ,:g,:e)\n",
    "\n",
    "# Hamiltonian\n",
    "H = Δ*a'*a + g*(a'*s + a*s')\n",
    "\n",
    "# Collapse operators\n",
    "J = [a,s,s']\n",
    "rates = [κ,γ,ν]\n",
    "nothing #hide"
   ]
  },
  {
   "cell_type": "markdown",
   "metadata": {},
   "source": [
    "The first equation we want to derive is that for the average photon number $\\langle a^\\dagger a \\rangle$."
   ]
  },
  {
   "cell_type": "code",
   "execution_count": null,
   "metadata": {},
   "outputs": [],
   "source": [
    "# Derive equation for average photon number\n",
    "eq_n = meanfield(a'*a,H,J;rates=rates,order=2)\n",
    "nothing #hide"
   ]
  },
  {
   "cell_type": "markdown",
   "metadata": {},
   "source": [
    "The remaining equations will be computed automatically using the [`complete`](@ref) function. However, we want to exclude terms such as $\\langle a \\rangle$ since these are phase-dependent and therefore 0 in our phase-invariant system. To this end, we provide a custom filter function to [`complete`](@ref). This function should return `true`, if the given average should be included, and `false` if it should be excluded (just like Julia's native `filter` function requires). We write a small function $\\phi$ that computes the phase of an average, such that $\\phi(a) = -1$, $\\phi(a^\\dagger) = 1$, and $\\phi(a^\\dagger a) = \\phi(a) + \\phi(a^\\dagger) = 0$. Similarly, we want to have $\\phi(\\sigma^{eg})=1=-\\phi(\\sigma^{ge})$, and $\\phi(\\sigma^{ee})=0$. An average of an operator $x$ is then said to be phase invariant if $\\phi(x)=0$.\n",
    "\n"
   ]
  },
  {
   "cell_type": "code",
   "execution_count": null,
   "metadata": {},
   "outputs": [],
   "source": [
    "# Custom filter function -- include only phase-invariant terms\n",
    "ϕ(x) = 0\n",
    "ϕ(::Destroy) = -1\n",
    "ϕ(::Create) = 1\n",
    "function ϕ(t::Transition)\n",
    "    if (t.i==:e && t.j==:g)\n",
    "        1\n",
    "    elseif (t.i==:g && t.j==:e)\n",
    "        -1\n",
    "    else\n",
    "        0\n",
    "    end\n",
    "end\n",
    "ϕ(avg::Average) = ϕ(avg.arguments[1])\n",
    "function ϕ(t::QuantumCumulants.QMul)\n",
    "    p = 0\n",
    "    for arg in t.args_nc\n",
    "        p += ϕ(arg)\n",
    "    end\n",
    "    return p\n",
    "end\n",
    "phase_invariant(x) = iszero(ϕ(x))\n",
    "\n",
    "# Complete equations\n",
    "eqs = complete(eq_n;filter_func=phase_invariant)"
   ]
  },
  {
   "cell_type": "markdown",
   "metadata": {},
   "source": [
    "In order to compute the spectrum, we first compute the correlation function $g(\\tau) = \\langle a^\\dagger(t_0 + \\tau) a(t_0)\\rangle \\equiv \\langle a^\\dagger a_0\\rangle.$\n",
    "\n",
    "Note that the [`CorrelationFunction`](@ref) finds the equation for $g(\\tau)$ and then completes the system of equations by using its own version of the [`complete`](@ref) function. We can also provide the same custom filter function as before to skip over terms that are not phase-invariant. Similarly, setting the keyword `steady_state=true`, we tell the function not to derive equations of motion for operators that do not depend on $\\tau$, but only on $t_0$ (if $t_0$ is in steady state, these values do not change with $\\tau$)."
   ]
  },
  {
   "cell_type": "code",
   "execution_count": null,
   "metadata": {},
   "outputs": [],
   "source": [
    "# Correlation function\n",
    "c = CorrelationFunction(a', a, eqs; steady_state=true, filter_func=phase_invariant)\n",
    "nothing #hide"
   ]
  },
  {
   "cell_type": "markdown",
   "metadata": {},
   "source": [
    "$\\langle a^\\dagger a_0\\rangle$\n",
    "\n",
    "As we can see, there are only two equations necessary to obtain the correlation function:\n"
   ]
  },
  {
   "cell_type": "code",
   "execution_count": null,
   "metadata": {},
   "outputs": [],
   "source": [
    "c.de\n",
    "nothing #hide"
   ]
  },
  {
   "cell_type": "markdown",
   "metadata": {},
   "source": [
    "```math\n",
    "\\begin{align} \\frac{d}{dt} \\langle a^\\dagger a_0\\rangle =& 1.0 i g \\langle {\\sigma}^{{eg}} a_0\\rangle + 1.0 i \\Delta \\langle a^\\dagger a_0\\rangle -0.5 \\kappa \\langle a^\\dagger a_0\\rangle \\\\\n",
    "\\frac{d}{dt} \\langle {\\sigma}^{{eg}} a_0\\rangle =& 1.0 i g \\langle a^\\dagger a_0\\rangle -0.5 \\gamma \\langle {\\sigma}^{{eg}} a_0\\rangle -0.5 \\nu \\langle {\\sigma}^{{eg}} a_0\\rangle -2.0 i \\langle {\\sigma}^{{ee}}\\rangle g \\langle a^\\dagger a_0\\rangle\n",
    "\\end{align}\n",
    "```\n",
    "\n"
   ]
  },
  {
   "cell_type": "markdown",
   "metadata": {},
   "source": [
    "\n",
    "The spectrum can now be computed by solving the above system of equations and then taking the Fourier transform, or by taking the Fourier transform directly, which is done by constructing an instance of the [`Spectrum`](@ref) type. Here, we will compare both approaches.\n",
    "\n",
    "In any case, we need to compute the steady state of the system numerically.\n"
   ]
  },
  {
   "cell_type": "code",
   "execution_count": null,
   "metadata": {},
   "outputs": [],
   "source": [
    "# Numerical solution\n",
    "ps = (Δ, g, γ, κ, ν)\n",
    "@named sys = ODESystem(eqs)\n",
    "u0 = zeros(ComplexF64, length(eqs))\n",
    "p0 = (1.0, 1.5, 0.25, 1, 4)\n",
    "prob = ODEProblem(sys,u0,(0.0,10.0),ps.=>p0)\n",
    "sol = solve(prob,RK4())\n",
    "nothing #hide"
   ]
  },
  {
   "cell_type": "markdown",
   "metadata": {},
   "source": [
    "\n",
    "Now, we can compute the time evolution of the correlation function in a similar way. Since the initial state of this system does not necessarily depend on all steady-state values, we can use the [`correlation_u0`](@ref) function which automatically generates the correct initial state vector required. Similarly, we use [`correlation_p0`](@ref) which generates the list of parameters including all needed steady-state values."
   ]
  },
  {
   "cell_type": "code",
   "execution_count": null,
   "metadata": {},
   "outputs": [],
   "source": [
    "# Time evolution of correlation function\n",
    "@named csys = ODESystem(c)\n",
    "u0_c = correlation_u0(c,sol.u[end])\n",
    "p0_c = correlation_p0(c,sol.u[end],ps.=>p0)\n",
    "prob_c = ODEProblem(csys,u0_c,(0.0,500.0),p0_c)\n",
    "sol_c = solve(prob_c,RK4(),save_idxs=1)\n",
    "nothing #hide"
   ]
  },
  {
   "cell_type": "markdown",
   "metadata": {},
   "source": [
    "\n",
    "Finally, we borrow the FFT function from [QuantumOptics.jl](https://qojulia.org) and compute the spectrum from the solution. Note that this requires an equidistant list of times, and we therefore interpolate the solution from the differential equation."
   ]
  },
  {
   "cell_type": "code",
   "execution_count": null,
   "metadata": {},
   "outputs": [],
   "source": [
    "# Interpolate solution\n",
    "τ = range(0.0, sol_c.t[end], length=15001)\n",
    "corr = sol_c.(τ)\n",
    "\n",
    "# Compute spectrum\n",
    "using QuantumOptics.timecorrelations: correlation2spectrum\n",
    "ω, s_fft = correlation2spectrum(τ, corr)\n",
    "nothing #hide"
   ]
  },
  {
   "cell_type": "markdown",
   "metadata": {},
   "source": [
    "Now, in order to compare we also compute the spectrum by constructing it directly from the correlation function and plot the results."
   ]
  },
  {
   "cell_type": "code",
   "execution_count": null,
   "metadata": {},
   "outputs": [],
   "source": [
    "# Spectrum\n",
    "S = Spectrum(c,ps)\n",
    "s_laplace = S(ω,sol.u[end],p0)\n",
    "\n",
    "plot(ω, s_fft, label=\"Spectrum (FFT)\", xlabel=\"ω\")\n",
    "plot!(ω, s_laplace, label=\"Spectrum (Laplace)\")\n",
    "xlims!(-3,3)\n",
    "savefig(\"laser-spectrum.svg\") # hide"
   ]
  },
  {
   "cell_type": "markdown",
   "metadata": {},
   "source": [
    "![svg](laser-spectrum.svg)"
   ]
  },
  {
   "cell_type": "markdown",
   "metadata": {},
   "source": [
    "As expected, both methods yield exactly the same spectrum. The difference is just in the method used, with the Laplace transform having a computational advantage."
   ]
  }
 ],
 "metadata": {
  "kernelspec": {
   "display_name": "Julia 1.7.2",
   "language": "julia",
   "name": "julia-1.7"
  },
  "language_info": {
   "file_extension": ".jl",
   "mimetype": "application/julia",
   "name": "julia",
   "version": "1.7.2"
  },
  "orig_nbformat": 4,
  "vscode": {
   "interpreter": {
    "hash": "6f38cfe8922d941c92fc591066a74813a9285a455efec88dafae5eaa218834d9"
   }
  }
 },
 "nbformat": 4,
 "nbformat_minor": 2
}
