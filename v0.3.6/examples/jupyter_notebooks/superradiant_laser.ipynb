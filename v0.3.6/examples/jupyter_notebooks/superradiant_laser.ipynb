{
 "cells": [
  {
   "cell_type": "markdown",
   "metadata": {},
   "source": [
    "# Superradiant Laser\n",
    "\n",
    "Using symmetry properties of a system can reduce the number of needed equations dramatically. A common approximation for laser systems to handle sufficiently big atom numbers is to assume that several atoms in the system behave completely identically. This means all the identical atoms have the same averages.\n",
    "\n",
    "In this example we describe a so-called superradiant laser, where we assume all atoms to be identical. This model has been described in [D. Meiser et al., Phys. Rev. Lett. 102, 163601 (2009):](https://journals.aps.org/prl/abstract/10.1103/PhysRevLett.102.163601) The Hamiltonian of this system is\n",
    "\n",
    "$H = - \\hbar \\Delta a^\\dagger a +  \\hbar \\sum\\limits_{j=1}^{N}  g_j (a^\\dagger \\sigma^{12}_{j} + a \\sigma^{21}_{j}),$\n",
    "\n",
    "where $\\Delta = \\omega_a - \\omega_c$ is the detuning between the cavity ($\\omega_c$) and the atomic ($\\omega_a$) resonance frequency, the atom cavity coupling of the atom $j$ is denoted by $g_j$. Additionally there are dissipative processes in the system, namely: Atoms are incoherently pumped with the rate $R$, they decay individually with the rate $\\Gamma$ and are affected by individual atomic dephasing with the rate $\\nu$. Photons leak out of the system with the rate $\\kappa$.\n",
    "\n",
    "We start by loading the packages."
   ]
  },
  {
   "cell_type": "code",
   "execution_count": null,
   "metadata": {},
   "outputs": [],
   "source": [
    "using Latexify # hide\n",
    "set_default(double_linebreak=true) # hide\n",
    "using QuantumCumulants\n",
    "using OrdinaryDiffEq, SteadyStateDiffEq, ModelingToolkit\n",
    "using Plots"
   ]
  },
  {
   "cell_type": "markdown",
   "metadata": {},
   "source": [
    "To give QuantumCumulants the information that several atoms behave identically we need to create a $\\texttt{ClusterSpace}$ on the desired Hilbert space. This $\\texttt{ClusterSpace}$ additionally needs the order $M$ of the system and a symbolic parameter for the number of identical elements $N$.\n"
   ]
  },
  {
   "cell_type": "code",
   "execution_count": null,
   "metadata": {},
   "outputs": [],
   "source": [
    "M = 2 # order\n",
    "@cnumbers N Δ g κ Γ R ν\n",
    "\n",
    "# Hilbertspace\n",
    "hc = FockSpace(:cavity)\n",
    "ha_ = NLevelSpace(:atom,2)\n",
    "ha = ClusterSpace(ha_, N, M)\n",
    "h = hc ⊗ ha"
   ]
  },
  {
   "cell_type": "markdown",
   "metadata": {},
   "source": [
    "Now we can define the operators on the composite Hilbert space including the $\\texttt{ClusterSpace}$, the workflow is completely the same as for 'normal' Hilbert spaces."
   ]
  },
  {
   "cell_type": "code",
   "execution_count": null,
   "metadata": {},
   "outputs": [],
   "source": [
    "# operators\n",
    "@qnumbers a::Destroy(h)\n",
    "σ(i,j) = Transition(h, :σ, i, j, 2)\n",
    "σ(2,2)"
   ]
  },
  {
   "cell_type": "markdown",
   "metadata": {},
   "source": [
    "What is different, however, is that the transition operator defined on the $\\texttt{ClusterSpace}$ is an array of $M$ transitions defined on internally created sub-Hilbert spaces. The reason for this is the following: Although we assume all atoms to be identical, we still need to keep track of the correlations between different atoms. Since $\\langle \\sigma^{21}_1 \\sigma^{12}_1 \\rangle = \\langle \\sigma^{22}_1 \\rangle$ is obviously not equal to $\\langle \\sigma^{21}_1 \\sigma^{12}_2 \\rangle$ at least a second atom is needed for a second order description. On the other hand, as all atoms are the same, it must hold that $\\langle \\sigma^{21}_1 \\sigma^{12}_2 \\rangle = \\langle \\sigma^{21}_\\alpha \\sigma^{12}_\\beta \\rangle$ for all $\\alpha \\ne \\beta$, therefore two atoms are sufficient. For higher orders and or bosonic operators the arguments are the same.\n",
    "\n",
    "The symbolic calculation rules for these operators acting on a $\\texttt{ClusterSpace}$ are implemented such that e.g. $\\sum\\limits_j \\sigma^{22}_j$ can be written as $sum(\\sigma(2,2))$ in the code. For the jump operators the syntax is such that individual atomic dissipation is written as $J = [σ(i,j)]$, whereas collective behaviour is expressed as $J = sum(σ(i,j))$. The Hamiltonian and the dissipative processes for individual atomic behaviour are therefore\n"
   ]
  },
  {
   "cell_type": "code",
   "execution_count": null,
   "metadata": {},
   "outputs": [],
   "source": [
    "# Hamiltonian\n",
    "H = -Δ*a'a + g*(a'*sum(σ(1,2)) + a*sum(σ(2,1)))\n",
    "\n",
    "# Jump operators & rates\n",
    "J = [a, σ(1,2), σ(2,1), σ(2,2)]\n",
    "rates = [κ, Γ, R, ν]\n",
    "nothing # hide"
   ]
  },
  {
   "cell_type": "markdown",
   "metadata": {},
   "source": [
    "First we want to derive the equation for $\\langle a^\\dagger a \\rangle$ and $\\langle \\sigma_1^{22} \\rangle$. $\\texttt{QuantumCumulants}$ automatically sets the right scaling factors in the equations to account for the number of identical atoms and also replaces redundant averages, e.g. $\\langle \\sigma_2^{22} \\rangle$ is replaced by $\\langle \\sigma_1^{22} \\rangle$ in the equations, since all atoms behave identically these two averages are the same.\n",
    "\n"
   ]
  },
  {
   "cell_type": "code",
   "execution_count": null,
   "metadata": {},
   "outputs": [],
   "source": [
    "# Derive equations\n",
    "ops = [a'*a, σ(2,2)[1]]\n",
    "eqs = meanfield(ops,H,J;rates=rates,order=M)\n",
    "nothing # hide"
   ]
  },
  {
   "cell_type": "markdown",
   "metadata": {},
   "source": [
    "```math\n",
    "\\begin{align}\n",
    "\\frac{d}{dt} \\langle a^\\dagger  a\\rangle  =& -1.0 \\kappa \\langle a^\\dagger  a\\rangle  -1.0 i N g \\langle a^\\dagger  {\\sigma_1}^{{12}}\\rangle  + 1.0 i N g \\langle a  {\\sigma_1}^{{21}}\\rangle  \\\\\n",
    "\\frac{d}{dt} \\langle {\\sigma_1}^{{22}}\\rangle  =& R -1.0 R \\langle {\\sigma_1}^{{22}}\\rangle  + 1 i g \\langle a^\\dagger  {\\sigma_1}^{{12}}\\rangle  -1 i g \\langle a  {\\sigma_1}^{{21}}\\rangle  -1.0 \\Gamma \\langle {\\sigma_1}^{{22}}\\rangle\n",
    "\\end{align}\n",
    "```"
   ]
  },
  {
   "cell_type": "markdown",
   "metadata": {},
   "source": [
    "To get a closed set of equations we automatically complete the system. Since this system is phase invariant we know that all averages with a phase are zero, therefore we exclude these terms with a filter function.\n"
   ]
  },
  {
   "cell_type": "code",
   "execution_count": null,
   "metadata": {},
   "outputs": [],
   "source": [
    "# custom filter function\n",
    "φ(x::Average) = φ(x.arguments[1])\n",
    "φ(::Destroy) = -1\n",
    "φ(::Create) =1\n",
    "φ(x::QTerm) = sum(map(φ, x.args_nc))\n",
    "φ(x::Transition) = x.i - x.j\n",
    "phase_invariant(x) = iszero(φ(x))\n",
    "\n",
    "# Complete equations\n",
    "eqs_c = complete(eqs; filter_func=phase_invariant)\n",
    "nothing # hide"
   ]
  },
  {
   "cell_type": "markdown",
   "metadata": {},
   "source": [
    "```math\n",
    "\\begin{align}\n",
    "\\frac{d}{dt} \\langle a^\\dagger  a\\rangle  =& -1.0 \\kappa \\langle a^\\dagger  a\\rangle  -1.0 i N g \\langle a^\\dagger  {\\sigma_1}^{{12}}\\rangle  + 1.0 i N g \\langle a  {\\sigma_1}^{{21}}\\rangle  \\\\\n",
    "\\frac{d}{dt} \\langle {\\sigma_1}^{{22}}\\rangle  =& R -1.0 R \\langle {\\sigma_1}^{{22}}\\rangle  + 1 i g \\langle a^\\dagger  {\\sigma_1}^{{12}}\\rangle  -1 i g \\langle a  {\\sigma_1}^{{21}}\\rangle  -1.0 \\Gamma \\langle {\\sigma_1}^{{22}}\\rangle  \\\\\n",
    "\\frac{d}{dt} \\langle a^\\dagger  {\\sigma_1}^{{12}}\\rangle  =& -0.5 R \\langle a^\\dagger  {\\sigma_1}^{{12}}\\rangle  + 1 i g \\langle {\\sigma_1}^{{22}}\\rangle  -1 i g \\langle a^\\dagger  a\\rangle  -0.5 \\Gamma \\langle a^\\dagger  {\\sigma_1}^{{12}}\\rangle  -1 i \\Delta \\langle a^\\dagger  {\\sigma_1}^{{12}}\\rangle  -0.5 \\kappa \\langle a^\\dagger  {\\sigma_1}^{{12}}\\rangle  -0.5 \\nu \\langle a^\\dagger  {\\sigma_1}^{{12}}\\rangle  + 2 i g \\langle {\\sigma_1}^{{22}}\\rangle  \\langle a^\\dagger  a\\rangle  + 1 i g \\langle {\\sigma_1}^{{21}}  {\\sigma_2}^{{12}}\\rangle  \\left( -1 + N \\right) \\\\\n",
    "\\frac{d}{dt} \\langle {\\sigma_1}^{{21}}  {\\sigma_2}^{{12}}\\rangle  =& -1.0 R \\langle {\\sigma_1}^{{21}}  {\\sigma_2}^{{12}}\\rangle  + 1 i g \\langle a^\\dagger  {\\sigma_1}^{{12}}\\rangle  -1 i g \\langle a  {\\sigma_1}^{{21}}\\rangle  -1.0 \\Gamma \\langle {\\sigma_1}^{{21}}  {\\sigma_2}^{{12}}\\rangle  -1.0 \\nu \\langle {\\sigma_1}^{{21}}  {\\sigma_2}^{{12}}\\rangle  -2 i g \\langle {\\sigma_1}^{{22}}\\rangle  \\langle a^\\dagger  {\\sigma_1}^{{12}}\\rangle  + 2 i g \\langle {\\sigma_1}^{{22}}\\rangle  \\langle a  {\\sigma_1}^{{21}}\\rangle\n",
    "\\end{align}\n",
    "```"
   ]
  },
  {
   "cell_type": "markdown",
   "metadata": {},
   "source": [
    "\n",
    "To calculate the dynamics of the system we create a system of ordinary differential equations, which can be used by [DifferentialEquations.jl](https://diffeq.sciml.ai/stable/).\n"
   ]
  },
  {
   "cell_type": "code",
   "execution_count": null,
   "metadata": {},
   "outputs": [],
   "source": [
    "@named sys = ODESystem(eqs_c)\n",
    "nothing # hide"
   ]
  },
  {
   "cell_type": "markdown",
   "metadata": {},
   "source": [
    "Finally we need to define the numerical parameters and the initial state of the system. We will consider $2 \\cdot 10^5$ Strontium atoms which are repumped with a rate of $R = 1\\text{Hz}$ on the clock transition ($\\Gamma = 1 \\text{mHz}$). The atom-cavity coupling rate is $g = 1\\text{Hz}$, the cavity has a linewidth of $\\kappa = 5\\text{kHz}$ and is detuned from the atomic resonance by $\\Delta = 2.5\\text{Hz}$."
   ]
  },
  {
   "cell_type": "code",
   "execution_count": null,
   "metadata": {},
   "outputs": [],
   "source": [
    "# Initial state\n",
    "u0 = zeros(ComplexF64, length(eqs_c))\n",
    "# System parameters\n",
    "N_ = 2e5\n",
    "Γ_ = 1.0 #Γ=1mHz\n",
    "Δ_ = 2500Γ_ #Δ=2.5Hz\n",
    "g_ = 1000Γ_ #g=1Hz\n",
    "κ_ = 5e6*Γ_ #κ=5kHz\n",
    "R_ = 1000Γ_ #R=1Hz\n",
    "ν_ = 1000Γ_ #ν=1Hz\n",
    "\n",
    "ps = [N, Δ, g, κ, Γ, R, ν]\n",
    "p0 = [N_, Δ_, g_, κ_, Γ_, R_, ν_]\n",
    "\n",
    "prob = ODEProblem(sys,u0,(0.0, 1.0/50Γ_), ps.=>p0)\n",
    "nothing # hide"
   ]
  },
  {
   "cell_type": "code",
   "execution_count": null,
   "metadata": {},
   "outputs": [],
   "source": [
    "sol = solve(prob,Tsit5(),maxiters=1e7)\n",
    "nothing # hide"
   ]
  },
  {
   "cell_type": "code",
   "execution_count": null,
   "metadata": {},
   "outputs": [],
   "source": [
    "# Plot time evolution\n",
    "t = sol.t\n",
    "n = real.(sol[a'a])\n",
    "s22 = real.(sol[σ(2,2)[1]])\n",
    "\n",
    "# Plot\n",
    "p1 = plot(t, n, xlabel=\"tΓ\", ylabel=\"⟨a⁺a⟩\", legend=false)\n",
    "p2 = plot(t, s22, xlabel=\"tΓ\", ylabel=\"⟨σ22⟩\", legend=false)\n",
    "plot(p1, p2, layout=(1,2), size=(700,300))\n",
    "savefig(\"superradiant_laser_time.svg\") # hide"
   ]
  },
  {
   "cell_type": "markdown",
   "metadata": {},
   "source": [
    "![svg](superradiant_laser_time.svg)"
   ]
  },
  {
   "cell_type": "markdown",
   "metadata": {},
   "source": [
    "## Spectrum\n",
    "\n",
    "We calculate the spectrum here with the Laplace transform of the two-time correlation function. This is implemented with the function $\\texttt{Spectrum}$."
   ]
  },
  {
   "cell_type": "code",
   "execution_count": null,
   "metadata": {},
   "outputs": [],
   "source": [
    "corr = CorrelationFunction(a', a, eqs_c; steady_state=true, filter_func=phase_invariant)\n",
    "S = Spectrum(corr, ps)\n",
    "nothing # hide"
   ]
  },
  {
   "cell_type": "markdown",
   "metadata": {},
   "source": [
    "The set of equations for the correlation function is given by"
   ]
  },
  {
   "cell_type": "code",
   "execution_count": null,
   "metadata": {},
   "outputs": [],
   "source": [
    "corr.de\n",
    "nothing # hide"
   ]
  },
  {
   "cell_type": "markdown",
   "metadata": {},
   "source": [
    "```math\n",
    "\\begin{align}\n",
    "\\frac{d}{d\\tau} \\langle a^\\dagger  a_0\\rangle  =& -1 i \\Delta \\langle a^\\dagger  a_0\\rangle  -0.5 \\kappa \\langle a^\\dagger  a_0\\rangle  + 1.0 i N g \\langle {\\sigma_1}^{{21}}  a_0\\rangle  \\\\\n",
    "\\frac{d}{d\\tau} \\langle {\\sigma_1}^{{21}}  a_0\\rangle  =& -0.5 R \\langle {\\sigma_1}^{{21}}  a_0\\rangle  + 1 i g \\langle a^\\dagger  a_0\\rangle  -0.5 \\Gamma \\langle {\\sigma_1}^{{21}}  a_0\\rangle  -0.5 \\nu \\langle {\\sigma_1}^{{21}}  a_0\\rangle  -2 i g \\langle {\\sigma_1}^{{22}}\\rangle  \\langle a^\\dagger  a_0\\rangle\n",
    "\\end{align}\n",
    "```\n",
    "\n",
    "\n",
    "To ensure we are in the steady state we use a steady solver to calculate it. To this end we need to define the $\\texttt{SteadyStateProblem}$ and specify the desired method. We also need to increase the $\\texttt{maxiters}$ and the solver accuracy to handle this numerically involved problem.\n"
   ]
  },
  {
   "cell_type": "code",
   "execution_count": null,
   "metadata": {},
   "outputs": [],
   "source": [
    "prob_ss = SteadyStateProblem(prob)\n",
    "sol_ss = solve(prob_ss, DynamicSS(Tsit5(); abstol=1e-6, reltol=1e-6),\n",
    "    reltol=1e-12, abstol=1e-12, maxiters=1e7)\n",
    "nothing # hide"
   ]
  },
  {
   "cell_type": "markdown",
   "metadata": {},
   "source": [
    "The spectrum is then calculated with"
   ]
  },
  {
   "cell_type": "code",
   "execution_count": null,
   "metadata": {},
   "outputs": [],
   "source": [
    "ω = [-10:0.01:10;]Γ_\n",
    "spec = S(ω,sol_ss.u,p0)\n",
    "spec_n = spec ./ maximum(spec)\n",
    "δ = abs(ω[(findmax(spec)[2])])"
   ]
  },
  {
   "cell_type": "code",
   "execution_count": null,
   "metadata": {},
   "outputs": [],
   "source": [
    "plot(ω, spec_n, xlabel=\"ω/Γ\", legend=false, size=(500,300))\n",
    "savefig(\"superradiant_laser_spec.svg\") # hide"
   ]
  },
  {
   "cell_type": "markdown",
   "metadata": {},
   "source": [
    "![svg](superradiant_laser_spec.svg)"
   ]
  },
  {
   "cell_type": "markdown",
   "metadata": {},
   "source": [
    "Beside the narrow linewidth we can also see another key feature of the superradiant laser here, namely the very weak cavity pulling. At a detunig of $\\Delta = 2500\\Gamma$ there is only a shift of the laser light from the atomic resonance frequency of $\\delta = 1\\Gamma$.\n",
    "\n",
    "!!! note\n",
    "\n",
    "    The implementation of the scaling rules are still in an early stage of development and they are quite 'experimental'. So make sure to double check the equations when using them in more complicated systems."
   ]
  }
 ],
 "metadata": {
  "kernelspec": {
   "display_name": "Julia 1.7.2",
   "language": "julia",
   "name": "julia-1.7"
  },
  "language_info": {
   "file_extension": ".jl",
   "mimetype": "application/julia",
   "name": "julia",
   "version": "1.7.2"
  },
  "orig_nbformat": 4,
  "vscode": {
   "interpreter": {
    "hash": "6f38cfe8922d941c92fc591066a74813a9285a455efec88dafae5eaa218834d9"
   }
  }
 },
 "nbformat": 4,
 "nbformat_minor": 2
}
