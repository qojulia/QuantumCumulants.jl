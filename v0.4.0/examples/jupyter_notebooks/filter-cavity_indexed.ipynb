{
 "cells": [
  {
   "cell_type": "markdown",
   "metadata": {},
   "source": [
    "# Laser with Filter Cavities"
   ]
  },
  {
   "cell_type": "markdown",
   "metadata": {},
   "source": [
    "An intuitive and straightforward approach to calculate the spectrum of a laser is to filter the emitted light. We can do this by coupling filter cavities with different detunings to the main cavity and observe the photon number in the 'filters', see for example [K. Debnath et al., Phys Rev A 98, 063837 (2018)](https://journals.aps.org/pra/abstract/10.1103/PhysRevA.98.063837).\n",
    "\n",
    "The main goal of this example is to combine two indexed Hilbert spaces, where one will be scaled and the other evaluated. The model is basically the same as for the [superradiant laser](https://qojulia.github.io/QuantumCumulants.jl/stable/examples/superradiant-laser/) example, but with the additional filter cavity terms. The Hamiltonian of this system is"
   ]
  },
  {
   "cell_type": "markdown",
   "metadata": {},
   "source": [
    "\\begin{equation}\n",
    "H = - \\Delta a^\\dagger a + g \\sum\\limits_{j=1}^{N} (a^\\dagger \\sigma^{12}_{j} + a \\sigma^{21}_{j}) - \\sum\\limits_{i=1}^{M} \\delta_i b_i^\\dagger b_i +  g_f \\sum\\limits_{i=1}^{M} (a^\\dagger b_i + a b_i^\\dagger),\n",
    "\\end{equation}"
   ]
  },
  {
   "cell_type": "markdown",
   "metadata": {},
   "source": [
    "where $\\delta_i$ is the detuning of the $i$-th filter cavity and $g_f$ the coupling with the normal cavity, their decay rate is $\\kappa_f$.\n",
    "\n",
    "We start by loading the packages."
   ]
  },
  {
   "cell_type": "code",
   "execution_count": 1,
   "metadata": {},
   "outputs": [
    {
     "name": "stderr",
     "output_type": "stream",
     "text": [
      "\u001b[36m\u001b[1m[ \u001b[22m\u001b[39m\u001b[36m\u001b[1mInfo: \u001b[22m\u001b[39mWaiting for another process (pid: 20347) to finish precompiling QuantumCumulants [35bcea6d-e19f-57db-af74-8011de6c7255]. Pidfile: /home/christoph/.julia/compiled/v1.10/QuantumCumulants/td6ql_342nI.ji.pidfile\n"
     ]
    }
   ],
   "source": [
    "using QuantumCumulants\n",
    "using OrdinaryDiffEq, ModelingToolkit\n",
    "using Plots"
   ]
  },
  {
   "cell_type": "markdown",
   "metadata": {},
   "source": [
    "We create the parameters of the system including the $\\texttt{IndexedVariable}$ $\\delta_i$. For the atoms and filter cavities we only need one Hilbert space each. We define the indices for each Hilbert space and use them to create $\\texttt{IndexedOperators}$."
   ]
  },
  {
   "cell_type": "code",
   "execution_count": 2,
   "metadata": {},
   "outputs": [
    {
     "data": {
      "text/plain": [
       "σ (generic function with 1 method)"
      ]
     },
     "execution_count": 2,
     "metadata": {},
     "output_type": "execute_result"
    }
   ],
   "source": [
    "# Paramters\n",
    "@cnumbers κ g gf κf R Γ Δ ν N M\n",
    "δ(i) = IndexedVariable(:δ, i)\n",
    "\n",
    "# Hilbertspace\n",
    "hc = FockSpace(:cavity)\n",
    "hf = FockSpace(:filter)\n",
    "ha = NLevelSpace(:atom, 2)\n",
    "h = hc ⊗ hf ⊗ ha\n",
    "\n",
    "# Indices and Operators\n",
    "i = Index(h,:i,M,hf)\n",
    "j = Index(h,:j,N,ha)\n",
    "\n",
    "@qnumbers a::Destroy(h,1)\n",
    "b(k) = IndexedOperator(Destroy(h,:b,2), k)\n",
    "σ(α,β,k) = IndexedOperator(Transition(h,:σ,α,β,3), k)"
   ]
  },
  {
   "cell_type": "markdown",
   "metadata": {},
   "source": [
    "We define the Hamiltonian using symbolic sums and define the individual dissipative processes. For an indexed jump operator the (symbolic) sum is build in the Liouvillian, in this case corresponding to individual decay processes."
   ]
  },
  {
   "cell_type": "code",
   "execution_count": 3,
   "metadata": {},
   "outputs": [],
   "source": [
    "# Hamiltonian\n",
    "H = Δ*Σ(σ(2,2,j),j) + Σ(δ(i)*b(i)'b(i),i) +\n",
    "    gf*(Σ(a'*b(i) + a*b(i)',i)) + g*(Σ(a'*σ(1,2,j) + a*σ(2,1,j),j))\n",
    "\n",
    "# Jumps & rates\n",
    "J = [a, b(i), σ(1,2,j), σ(2,1,j), σ(2,2,j)]\n",
    "rates = [κ, κf, Γ, R, ν]\n",
    "nothing # hide"
   ]
  },
  {
   "cell_type": "markdown",
   "metadata": {},
   "source": [
    "We derive the equation for $\\langle a^\\dagger a \\rangle$ and complete the system automatically in second order. "
   ]
  },
  {
   "cell_type": "code",
   "execution_count": 4,
   "metadata": {},
   "outputs": [
    {
     "data": {
      "text/latex": [
       "\\begin{align}\n",
       "\\frac{d}{dt} \\langle a^\\dagger  a\\rangle  =& 1 i \\left( \\underset{i}{\\overset{M}{\\sum}} gf  \\langle a  {b}_{i}^\\dagger\\rangle  + \\underset{j}{\\overset{N}{\\sum}} g  \\langle a  {\\sigma}_{j}^{{21}}\\rangle  \\right) -1 i \\left( \\underset{i}{\\overset{M}{\\sum}} gf  \\langle a^\\dagger  {b}_{i}\\rangle  + \\underset{j}{\\overset{N}{\\sum}} g  \\langle a^\\dagger  {\\sigma}_{j}^{{12}}\\rangle  \\right) -1.0 \\langle a^\\dagger  a\\rangle  \\kappa\n",
       "\\end{align}\n"
      ],
      "text/plain": [
       "∂ₜ(⟨a′*a⟩) = (0 + 1im)*(var\"∑(i=1:M)gf*⟨a*bi'⟩\" + var\"∑(j=1:N)g*⟨a*σ21j⟩\") + (0 - 1im)*(var\"∑(i=1:M)gf*⟨a′*bi⟩\" + var\"∑(j=1:N)g*⟨a′*σ12j⟩\") - ⟨a′*a⟩*κ\n"
      ]
     },
     "execution_count": 4,
     "metadata": {},
     "output_type": "execute_result"
    }
   ],
   "source": [
    "eqs = meanfield(a'a,H,J;rates=rates,order=2)"
   ]
  },
  {
   "cell_type": "code",
   "execution_count": 5,
   "metadata": {},
   "outputs": [],
   "source": [
    "eqs_c = complete(eqs);\n",
    "nothing # hide"
   ]
  },
  {
   "cell_type": "markdown",
   "metadata": {},
   "source": [
    "Now we assume that all atoms behave identically, but we want to obtain the equations for 20 different filter cavities. To this end we $\\texttt{scale}$ the Hilbert space of the atoms and $\\texttt{evaluate}$ the filter cavities. Specifying the Hilbert space is done with the kwarg $\\texttt{h}$, which can either be the specific Hilbert space or it's acts-on number. Evaluating the filer cavities requires a numeric upper bound for the used $\\texttt{Index}$, we provide this with a dictionary on the kwarg $\\texttt{limits}$."
   ]
  },
  {
   "cell_type": "code",
   "execution_count": 6,
   "metadata": {},
   "outputs": [
    {
     "name": "stdout",
     "output_type": "stream",
     "text": [
      "Number of eqs.: 552\n"
     ]
    }
   ],
   "source": [
    "M_ = 20\n",
    "eqs_sc = scale(eqs_c;h=[ha]) #h=[3]\n",
    "eqs_eval = evaluate(eqs_sc; limits=Dict(M=>M_)) #h=[hf]\n",
    "println(\"Number of eqs.: $(length(eqs_eval))\")"
   ]
  },
  {
   "cell_type": "markdown",
   "metadata": {},
   "source": [
    "To calculate the dynamic of the system we create a system of ordinary differential equations, which can be used by [DifferentialEquations.jl](https://diffeq.sciml.ai/stable/). Finally we need to define the numerical parameters and the initial value of the system."
   ]
  },
  {
   "cell_type": "code",
   "execution_count": 7,
   "metadata": {},
   "outputs": [],
   "source": [
    "@named sys = ODESystem(eqs_eval)\n",
    "nothing # hide"
   ]
  },
  {
   "cell_type": "code",
   "execution_count": 8,
   "metadata": {},
   "outputs": [],
   "source": [
    "# Initial state\n",
    "u0 = zeros(ComplexF64, length(eqs_eval))\n",
    "\n",
    "# System parameters\n",
    "N_ = 200\n",
    "Γ_ = 1.0\n",
    "Δ_ = 0Γ_\n",
    "g_ = 1Γ_\n",
    "κ_ = 100Γ_\n",
    "R_ = 10Γ_\n",
    "ν_ = 1Γ_\n",
    "\n",
    "gf_ = 0.1Γ_\n",
    "κf_ = 0.1Γ_\n",
    "δ_ls = [0:1/M_:1-1/M_;]*10Γ_\n",
    "\n",
    "ps = [Γ, κ, g, κf, gf, R, [δ(i) for i=1:M_]..., Δ, ν, N]\n",
    "p0 = [Γ_, κ_, g_, κf_, gf_, R_, δ_ls..., Δ_, ν_, N_]\n",
    "\n",
    "prob = ODEProblem(sys,u0,(0.0, 10.0/κf_), ps.=>p0)\n",
    "nothing # hide"
   ]
  },
  {
   "cell_type": "code",
   "execution_count": 9,
   "metadata": {},
   "outputs": [],
   "source": [
    "# Solve the numeric problem\n",
    "sol = solve(prob, Tsit5(); abstol=1e-10, reltol=1e-10, maxiters=1e7)\n",
    "\n",
    "t = sol.t\n",
    "n = abs.(sol[a'a])\n",
    "n_b(i) =  abs.(sol[b(i)'b(i)])\n",
    "n_f = [abs(sol[b(i)'b(i)][end]) for i=1:M_] ./ (abs(sol[b(1)'b(1)][end]))\n",
    "nothing # hide"
   ]
  },
  {
   "cell_type": "code",
   "execution_count": 10,
   "metadata": {},
   "outputs": [
    {
     "data": {
      "text/plain": [
       "\"/home/christoph/git/QuantumCumulants.jl/docs/src/examples/jupyter_notebooks/filter_cavities_indexed.svg\""
      ]
     },
     "execution_count": 10,
     "metadata": {},
     "output_type": "execute_result"
    }
   ],
   "source": [
    "# Plot results\n",
    "p1 = plot(t, n_b(1), alpha=0.5, ylabel=\"⟨bᵢ⁺bᵢ⟩\", legend=false)\n",
    "for i=2:M_\n",
    "    plot!(t, n_b(i), alpha=0.5, legend=false)\n",
    "end\n",
    "#p1 = plot!(twinx(), t, n, xlabel=\"tΓ\", ylabel=\"⟨a⁺a⟩\", legend=false)\n",
    "\n",
    "p2 = plot([-reverse(δ_ls);δ_ls], [reverse(n_f);n_f], xlabel=\"δ/Γ\", ylabel=\"intensity\", legend=false)\n",
    "plot(p1, p2, layout=(1,2), size=(700,300))\n",
    "savefig(\"filter_cavities_indexed.svg\") # hide"
   ]
  }
 ],
 "metadata": {
  "@webio": {
   "lastCommId": null,
   "lastKernelId": null
  },
  "kernelspec": {
   "display_name": "Julia 1.10.2",
   "language": "julia",
   "name": "julia-1.10"
  },
  "language_info": {
   "file_extension": ".jl",
   "mimetype": "application/julia",
   "name": "julia",
   "version": "1.10.2"
  }
 },
 "nbformat": 4,
 "nbformat_minor": 4
}
