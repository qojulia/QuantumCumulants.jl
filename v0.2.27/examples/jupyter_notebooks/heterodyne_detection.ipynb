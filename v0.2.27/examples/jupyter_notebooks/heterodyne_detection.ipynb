{
 "cells": [
  {
   "cell_type": "markdown",
   "metadata": {},
   "source": [
    "# Heterodyne detection of emission from atomic ensemble\n",
    "This example implements the heterodyne detection of the light emitted by an ensemble of atoms (see https://arxiv.org/abs/2211.13068). We thus describe the stochastic master equation time evolution that governs the measurement backaction on the system. "
   ]
  },
  {
   "cell_type": "code",
   "execution_count": null,
   "metadata": {},
   "outputs": [],
   "source": [
    "using QuantumCumulants\n",
    "using SymbolicUtils\n",
    "using Symbolics\n",
    "using ModelingToolkit\n",
    "using StochasticDiffEq\n",
    "using DifferentialEquations\n",
    "using PyPlot\n",
    "using Statistics"
   ]
  },
  {
   "cell_type": "markdown",
   "metadata": {},
   "source": [
    "# System definition \n",
    "The system we discuss is an ensemble of $N$ equivalent atoms (two level systems with transition operators $\\sigma_{1,2,j}$ and frequency $\\omega_a$) coupled to a cavity mode $\\hat a$, all with the same coupling $g$ and free space decay rate $\\kappa$. The cavity has frequency $\\omega_c$ and decay rate $\\kappa$. We are in the frame rotating with the frequency $\\omega_a=\\omega_c$.\n",
    "\n",
    "The system Hamiltonian is then\n",
    "\n",
    "\\begin{equation}\n",
    "H=\\omega_c\\hat a^\\dagger\\hat a+\\omega_a\\sum_j\\sigma_{2,2,j}+\\hat a^\\dagger\\sigma_{1,2,j}+g\\hat a\\sigma_{2,1,j}.\n",
    "\\end{equation}"
   ]
  },
  {
   "cell_type": "code",
   "execution_count": null,
   "metadata": {},
   "outputs": [],
   "source": [
    "@cnumbers N ωa γ η χ ωc κ g ξ ωl\n",
    "@syms t::Real\n",
    "@register pulse(t)\n",
    "\n",
    "hc = FockSpace(:resonator)\n",
    "ha = NLevelSpace(:atom,2)\n",
    "h = hc ⊗ ha\n",
    "\n",
    "j = Index(h,:j,N,ha)\n",
    "k = Index(h,:k,N,ha)\n",
    "\n",
    "@qnumbers a::Destroy(h,1)\n",
    "σ(α,β,k) = IndexedOperator(Transition(h,:σ,α,β,2), k)\n",
    "H = ωc * a' * a + ωa * Σ(σ(2,2,j),j)+g*a'*Σ(σ(1,2,j),j)+g*a*Σ(σ(2,1,j),j);"
   ]
  },
  {
   "cell_type": "markdown",
   "metadata": {},
   "source": [
    "# Decay terms\n",
    "\n",
    "We then include four terms in the Lindblad term of the Master equation. We include spontaneous decay of the cavity mode, where we choose the decay operator to be $\\hat a\\exp(\\rm{i}\\omega_lt)$ for convenience (we will see later why this is reasonable and you can convince yourself that it gives the same decay term as $\\hat a$). The free dacay of the atoms with $\\gamma$ is given by the decay operator $\\sigma_{1,2,j}$.\n",
    "\n",
    "We also include an incoherent pump $\\sigma_{2,1,j}$ with amplitude $\\eta$, which is a pulse that is on between $t_0$ and $t_0+t_1$. The last term is a dephasing term with strength $\\chi$ corresponding to the operator $\\sigma_{2,2,j}$."
   ]
  },
  {
   "cell_type": "code",
   "execution_count": null,
   "metadata": {},
   "outputs": [],
   "source": [
    "J = [a*exp(1.0im*ωl*t),σ(1,2,j),σ(2,1,j),σ(2,2,j)]\n",
    "rates = [κ,γ,η*pulse(t),2*χ]\n",
    "\n",
    "function pulse(t)\n",
    "    if t>t0 && t<t0+t1\n",
    "        return 1\n",
    "    else\n",
    "        return 0\n",
    "    end\n",
    "end"
   ]
  },
  {
   "cell_type": "markdown",
   "metadata": {},
   "source": [
    "# Stochastic measurement terms\n",
    "We include the measurement terms by defining measurement efficiencies for all decay channels. A channel with efficiency zero is ignored, i.e. not measured. The operator $\\hat a\\exp(\\rm{i}\\omega_lt)$ corresponding to heterodyne detection with local oscillator frequency $\\omega_l$ is then measured with efficiency $\\xi$. \n",
    "\n",
    "Such measurement terms are then included in the equation of motion for system operators is then included as \n",
    "\n",
    "\\begin{equation}\n",
    "d\\langle\\hat A\\rangle=\\sqrt{\\xi\\kappa/2}\\langle \\hat a^\\dagger \\rm{e}^{-\\rm{i}\\omega_lt}\\hat A+\\hat A\\hat a\\rm{e}^{\\rm{i}\\omega_lt} -\\hat a\\langle\\hat a \\rm{e}^{\\rm{i}\\omega_lt}+\\hat a^\\dagger \\rm{e}^{-\\rm{i}\\omega_lt}\\rangle\\rangle\n",
    "\\end{equation}\n",
    "\n",
    "for the operator $\\hat a \\rm{e}^{\\rm{i}\\omega_lt}$  corresponding to heterodyne detection."
   ]
  },
  {
   "cell_type": "code",
   "execution_count": null,
   "metadata": {},
   "outputs": [],
   "source": [
    "efficiencies = [ξ,0,0,0]\n",
    "ops = [a',a'*a,σ(2,2,k),σ(1,2,k), a*a];\n",
    "eqs = meanfield(ops,H,J; rates = rates, efficiencies = efficiencies, order = 2)"
   ]
  },
  {
   "cell_type": "markdown",
   "metadata": {},
   "source": [
    "# Finding the equations of motion\n",
    "The completion and scaling as previously discussed in other examples work exactly the same way for equations including noise terms."
   ]
  },
  {
   "cell_type": "code",
   "execution_count": null,
   "metadata": {},
   "outputs": [],
   "source": [
    "eqs_c = indexed_complete(eqs)\n",
    "scaled_eqs = scale(eqs_c)"
   ]
  },
  {
   "cell_type": "markdown",
   "metadata": {},
   "source": [
    "# Deterministic time evolution\n",
    "Here we define the actual values for the system parameters. We then show that the deterministic time evolution without the noise terms is still accesible by using the constructor ODESystem for the stochastic system of equations and the syntax for the simulation of the time evolution is as usual."
   ]
  },
  {
   "cell_type": "code",
   "execution_count": null,
   "metadata": {},
   "outputs": [],
   "source": [
    "ωc_ = 0.0; κ_ = 2.0 * π * 2.26e6; ξ_ = 0.12; N_=5e4; \n",
    "ωa_ = 0.0; γ_ = 2.0 * π * 375; η_ = 2.0 * π * 20e3; χ_ = 0.1; \n",
    "g_ = 6.531*10^3; ωl_ = 2.0 * π * 10^3; t0=0.0;t1=20e-6\n",
    "p = [N,ωa,γ,η,χ,ωc,κ,g,ξ,ωl]\n",
    "p0 = [N_,ωa_,γ_,η_,χ_,ωc_,κ_,g_,ξ_,ωl_]\n",
    "\n",
    "@named sys = ODESystem(scaled_eqs)\n",
    "u0 = zeros(ComplexF64,length(scaled_eqs.equations))\n",
    "prob = ODEProblem(sys, u0,(0.0,1e-3),p.=>p0)\n",
    "sol_det = solve(prob,RK4(),dt=1e-9)\n",
    "\n",
    "plot(sol_det.t .* 1000, map(x -> real(x[2]), sol_det.u))\n",
    "xlim(left = 0.0, right = 0.1)\n",
    "ylabel(\"Cavity phonon number\")\n",
    "xlabel(\"Time (ms)\")"
   ]
  },
  {
   "cell_type": "markdown",
   "metadata": {},
   "source": [
    "# Stochastic time evolution\n",
    "The stochastic time evolution is accesible via the constructor SDESystem, whose syntax is exactly the same as for the ODESystem, but with keyword args as defined in https://docs.sciml.ai/DiffEqDocs/stable/tutorials/sde_example/. We then need to provide a noise process for the measurement. If the noise is white the appropriate noise process is a Wiener process. The SDEProblem is then constructed just as the ODEProblem, but with an additional noise argument.\n",
    "\n",
    "We can then make use of the EnsembleProblem which automatically runs multiple instances of the stochastic equations of motion. The number of trajectories can then be set in the solve call. See the documentation cited above for more details of the function calls here."
   ]
  },
  {
   "cell_type": "code",
   "execution_count": null,
   "metadata": {},
   "outputs": [],
   "source": [
    "@named sys = SDESystem(scaled_eqs)\n",
    "u0 = zeros(ComplexF64,length(scaled_eqs.equations))\n",
    "noise = StochasticDiffEq.RealWienerProcess(0.0, 0.0)\n",
    "prob = SDEProblem(sys, u0,(0.0,0.1*1e-3),p.=>p0,noise=noise)\n",
    "\n",
    "eprob = EnsembleProblem(prob)\n",
    "sol = solve(eprob,StochasticDiffEq.EM(), dt = 1e-9, save_noise=true,trajectories=256,saveat=0:1e-6:0.1*1e-3)"
   ]
  },
  {
   "cell_type": "markdown",
   "metadata": {},
   "source": [
    "# Plot the average of the cavity number\n",
    "Here we plot the average of the cavity number for the stochastic and determinstic equation of motion with the trajectories in grey in the background. We can see that the dynamics of the system is indeed modified by the measurement backaction."
   ]
  },
  {
   "cell_type": "code",
   "execution_count": null,
   "metadata": {},
   "outputs": [],
   "source": [
    "us = fill(0.0, length(sol.u), length(sol.u[1].t))\n",
    "for (i, el) in enumerate(sol.u)\n",
    "    u = map(x->real(x[2]), el)\n",
    "    if length(u) == size(us, 2) us[i,:] .+= u else continue end\n",
    "    plot(el.t .* 1000, u, color = \"grey\", alpha = 0.1)\n",
    "end\n",
    "\n",
    "plot(sol.u[1].t .* 1000, mean(us, dims = 1)[1,:], color = \"red\", label = \"stochastic\")\n",
    "plot(sol_det.t .* 1000, map(x -> real(x[2]), sol_det.u), color = \"blue\", label = \"deterministic\")\n",
    "xlim(left = 0.0, right = 0.1)\n",
    "ylim(bottom = 0, top = 500)\n",
    "ylabel(\"Cavity phonon number\")\n",
    "xlabel(\"Time (ms)\")\n",
    "legend()"
   ]
  },
  {
   "cell_type": "markdown",
   "metadata": {},
   "source": [
    "# Plot the average of the cavity field amplitude\n",
    "For the cavity field amplitude we see that the ensemble average becomes zero, but the trajectories have finite cavity field amplitude "
   ]
  },
  {
   "cell_type": "code",
   "execution_count": null,
   "metadata": {},
   "outputs": [],
   "source": [
    "us = fill(0.0, length(sol.u), length(sol.u[1].t))\n",
    "for (i, el) in enumerate(sol.u)\n",
    "    u = map(x->real(x[1]), el)\n",
    "    if length(u) == size(us, 2) us[i,:] .+= u else continue end\n",
    "    plot(el.t .* 1000, u, color = \"grey\", alpha = 0.05)\n",
    "end\n",
    "\n",
    "plot(sol_det.t .* 1000, map(x -> real(x[1]), sol_det.u), color = \"blue\", label = \"deterministic\")\n",
    "plot(sol.u[1].t .* 1000, mean(us, dims = 1)[1,:], color = \"red\", label = \"stochastic\")\n",
    "xlim(left = 0.0, right = 0.1)\n",
    "ylabel(\"Cavity field\")\n",
    "xlabel(\"Time (ms)\")\n",
    "legend()"
   ]
  }
 ],
 "metadata": {
  "kernelspec": {
   "display_name": "Julia 1.9.3",
   "language": "julia",
   "name": "julia-1.9"
  },
  "language_info": {
   "file_extension": ".jl",
   "mimetype": "application/julia",
   "name": "julia",
   "version": "1.9.3"
  },
  "orig_nbformat": 4
 },
 "nbformat": 4,
 "nbformat_minor": 2
}
