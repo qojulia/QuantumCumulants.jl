{
 "cells": [
  {
   "cell_type": "markdown",
   "metadata": {},
   "source": [
    "# Noisy excitation transport\n",
    "\n",
    "In this example, we will look at the energy transport in a one-dimensional chain of atoms, where only the first atom is driven.\n",
    "The excitation can then move from one atom to another via position-dependent dipolar interactions between nearest neighbors.\n",
    "\n",
    "The Hamiltonian of this system reads"
   ]
  },
  {
   "cell_type": "markdown",
   "metadata": {},
   "source": [
    "```math\n",
    "H = -\\Delta \\sum_j \\sigma_j^{ee} + \\Omega\\left(\\sigma_1^{eg} + \\sigma_1^{ge}\\right) + \\sum_{j=1}^{N-1}J(x_i,x_j)\\left(\\sigma_j^{eg}\\sigma_{j+1}^{ge} + \\sigma_j^{ge}\\sigma_{j+1}^{eg}\\right).\n",
    "```\n"
   ]
  },
  {
   "cell_type": "markdown",
   "metadata": {},
   "source": [
    "The first term describes the energy of the excited atomic state in the rotating frame of the driving laser with the detuning $\\Delta$.\n",
    "The second term describes the driving of the first atom with a laser with a Rabi frequency $\\Omega$.\n",
    "Finally, the interactions between nearest neighbors are included with the position-dependent interaction\n",
    "\n",
    "```math\n",
    "J(x_i,x_j) = \\frac{J_0}{|x_i - x_j|^3},\n",
    "```\n",
    "\n",
    "where $J_0$ is the strength of the interaction at unit distance.\n",
    "The positions of the atoms $x_i$ are in units of the transition wavelength.\n",
    "Furthermore, each atom is subject to spontaneous emission at a rate $\\gamma$ with the collapse operator $\\sigma_j^{ge}$.\n",
    "\n",
    "We will start by simulating the system as described above.\n",
    "Specifically, we compute the efficiency of the excitation transport by looking at the excited state population of the atom at the end of the chain opposite to the driven atom.\n",
    "Finally, we show how one can generalize the system to include random fluctuations in the atomic position.\n",
    "We can then investigate the effect of the positional noise on the efficiency of the energy transport.\n",
    "\n",
    "As always, we start by loading the packages we use and some basic definitions."
   ]
  },
  {
   "cell_type": "code",
   "execution_count": null,
   "metadata": {},
   "outputs": [],
   "source": [
    "using QuantumCumulants\n",
    "using ModelingToolkit, OrdinaryDiffEq\n",
    "using Plots\n",
    "\n",
    "\n",
    "# Hilbert space for N atoms\n",
    "N = 10\n",
    "h = ⊗([NLevelSpace(Symbol(:atom, i), (:g,:e)) for i=1:N]...)\n",
    "\n",
    "# Operators\n",
    "σ(i,j,k) = Transition(h,Symbol(:σ_,k),i,j,k)\n",
    "\n",
    "# Define the symbolic parameters and the interaction\n",
    "@cnumbers Ω γ w Δ J0\n",
    "x = cnumbers(join([\"x_$i\" for i=1:N], \" \"))\n",
    "J(xᵢ,xⱼ) = J0 / abs(xᵢ - xⱼ)^3\n",
    "\n",
    "# Specify the Hamiltonian and the collapse operators\n",
    "H = -Δ*sum(σ(:e,:e,k) for k=1:N) + Ω*(σ(:e,:g,1) + σ(:g,:e,1)) +\n",
    "    sum(J(x[k],x[k+1])*(σ(:e,:g,k)*σ(:g,:e,k+1) + σ(:g,:e,k)*σ(:e,:g,k+1)) for k=1:N-1)\n",
    "\n",
    "c_ops = [σ(:g,:e,k) for k=1:N]\n",
    "nothing #hide"
   ]
  },
  {
   "cell_type": "markdown",
   "metadata": {},
   "source": [
    "The above definitions are all we need to derive the set of equations.\n",
    "Here, we will include terms up to second order.\n",
    "Note, that in order to include noise, we will not need to make any adaptions on a symbolic level.\n",
    "Rather, we only need to derive the equations once and substitute the noisy positions accordingly when performing the numerical solutions."
   ]
  },
  {
   "cell_type": "code",
   "execution_count": null,
   "metadata": {},
   "outputs": [],
   "source": [
    "# Derive the equations to second order\n",
    "eqs = meanfield(σ(:g,:e,1),H,c_ops;rates=[γ for i=1:N],order=2)\n",
    "complete!(eqs)  # complete the set\n",
    "\n",
    "# Generate the ODESystem\n",
    "@named sys = ODESystem(eqs)\n",
    "nothing #hide"
   ]
  },
  {
   "cell_type": "markdown",
   "metadata": {},
   "source": [
    "Once we have our set of equations and converted it to an `ODESystem` we are ready to solve for the dynamics.\n",
    "First, let's have a look at the excitation transport for perfectly positioned atoms.\n",
    "We assume an equidistant chain, were neighboring atoms are separated by a distance $d$."
   ]
  },
  {
   "cell_type": "code",
   "execution_count": null,
   "metadata": {},
   "outputs": [],
   "source": [
    "# Define parameters without noise\n",
    "d = 0.75\n",
    "x0 = [d*(k-1) for k=1:N]\n",
    "p = [γ => 1.0; Δ => 0.0; Ω => 2.0; J0 => 1.25; x .=> x0;]\n",
    "\n",
    "# Create ODEProblem\n",
    "u0 = zeros(ComplexF64, length(eqs))  # initial state -- all atoms in the ground state\n",
    "prob = ODEProblem(sys,u0,(0.0,15.0),p)\n",
    "\n",
    "# Solve\n",
    "sol = solve(prob,RK4())\n",
    "\n",
    "# Plot\n",
    "graph = plot(sol.t, real.(sol[σ(:e,:e,1)]), label=\"Driven atom\",\n",
    "            xlabel=\"γt\", ylabel=\"Excited state population\")\n",
    "plot!(graph, sol.t, real.(sol[σ(:e,:e,N)]), label=\"End of chain\", leg=1)"
   ]
  },
  {
   "cell_type": "markdown",
   "metadata": {},
   "source": [
    "As you can see, the excitation transport is reasonably efficient, resulting in an excited state population at the end of the chain well above 10%.\n",
    "\n",
    "Now, we will introduce some noise in the atomic positions.\n",
    "In order to do so, we make use of the convenient [ensemble simulation feature](https://diffeq.sciml.ai/stable/features/ensemble/) from the [OrdinaryDiffEq](https://diffeq.sciml.ai/stable/) library.\n",
    "For each trajectory, we recreate the original `ODEProblem` with a new set of atomic positions.\n",
    "We assume that each atom is located around the same point as before in the equidistant chain.\n",
    "However, we account for imperfect positioning in that the actual position of each atom is randomly modified.\n",
    "The strength of these position fluctuations is given by a parameter $s$, and the random fluctuations are sampled from a Gaussian distribution.\n",
    "\n",
    "Each trajectory we simulate can be thought of as one realization of an experiment, where the atoms are trapped with imperfect accuracy.\n",
    "\n",
    "In the following, we define the function that sets up the new `ODEProblem` for a realization and solve a specified number of trajectories."
   ]
  },
  {
   "cell_type": "code",
   "execution_count": null,
   "metadata": {},
   "outputs": [],
   "source": [
    "s = d/30  # strength of fluctuations\n",
    "function prob_func(prob,i,repeat)\n",
    "    # Define the new set of parameters\n",
    "    x_ = x0 .+ s.*randn(N)\n",
    "    p_ = [γ => 1.0; Δ => 0.0; Ω => 2.0; J0 => 1.25; x .=> x_;]\n",
    "\n",
    "    # Convert to numeric values only\n",
    "    pnum = ModelingToolkit.varmap_to_vars(p_,parameters(sys))\n",
    "\n",
    "    # Return new ODEProblem\n",
    "    return remake(prob, p=pnum)\n",
    "end\n",
    "\n",
    "trajectories = 50\n",
    "eprob = EnsembleProblem(prob,prob_func=prob_func)\n",
    "sim = solve(eprob,RK4(),trajectories=trajectories)\n",
    "nothing #hide"
   ]
  },
  {
   "cell_type": "markdown",
   "metadata": {},
   "source": [
    "Finally, we average over the results and compare them against the results from before, where there was no noise in the atomic positioning."
   ]
  },
  {
   "cell_type": "code",
   "execution_count": null,
   "metadata": {},
   "outputs": [],
   "source": [
    "# Average resulting excitations\n",
    "tspan = range(0.0, sol.t[end], length=101)\n",
    "pops_avg = zeros(length(tspan), N)\n",
    "for i=1:N, j=1:trajectories\n",
    "    sol_ = sim.u[j].(tspan)  # interpolate solution\n",
    "    p_idx = findfirst(isequal(average(σ(:e,:e,i))), states(eqs))\n",
    "    pop = [u[p_idx] for u ∈ sol_]\n",
    "    @. pops_avg[:,i] += pop / trajectories\n",
    "end\n",
    "\n",
    "plot!(graph, tspan, pops_avg[:,1], color=:steelblue, ls=:dash, label=nothing)\n",
    "plot!(graph, tspan, pops_avg[:,N], color=:orange, ls=:dash, label=nothing)"
   ]
  },
  {
   "cell_type": "markdown",
   "metadata": {},
   "source": [
    "\n",
    "In the above graph, the solid lines are the ones from before, where we did not include any position fluctuations.\n",
    "The dashed lines with the corresponding colors show the results when averaging over many noisy realizations.\n",
    "\n",
    "As we can see, more of the excited state population remains in the driven atom at the beginning of the chain.\n",
    "The efficiency of the transport is somewhat reduced and only approximately 10% excited state population are reached in the atom at the other end.\n",
    "\n",
    "We can also plot the results for each trajectory on top of the average.\n",
    "Let's look at each trajectory of the excited state population of the atom at the end of the chain."
   ]
  },
  {
   "cell_type": "code",
   "execution_count": null,
   "metadata": {},
   "outputs": [],
   "source": [
    "graph2 = plot(xlabel=\"γt\", ylabel=\"Excitation at end of chain\")\n",
    "for i=1:trajectories\n",
    "    plot!(graph2, sim.u[i].t, real.(sim.u[i][σ(:e,:e,N)]), color=:steelblue, label=nothing)\n",
    "end\n",
    "plot!(graph2, tspan, pops_avg[:,N], lw=4, label=\"Average over trajectories\", color=:orange)"
   ]
  },
  {
   "cell_type": "markdown",
   "metadata": {},
   "source": [
    "\n",
    "As you can see, in some realizations the transport is almost not hindered at all.\n",
    "On average, however, the transport efficiency is reduced quite a bit."
   ]
  }
 ],
 "metadata": {
  "kernelspec": {
   "display_name": "Julia 1.7.2",
   "language": "julia",
   "name": "julia-1.7"
  },
  "language_info": {
   "file_extension": ".jl",
   "mimetype": "application/julia",
   "name": "julia",
   "version": "1.7.2"
  },
  "orig_nbformat": 4,
  "vscode": {
   "interpreter": {
    "hash": "6f38cfe8922d941c92fc591066a74813a9285a455efec88dafae5eaa218834d9"
   }
  }
 },
 "nbformat": 4,
 "nbformat_minor": 2
}
