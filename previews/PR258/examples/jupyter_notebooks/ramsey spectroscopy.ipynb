{
 "cells": [
  {
   "cell_type": "markdown",
   "metadata": {},
   "source": [
    "# Ramsey Spectroscopy\n",
    "\n",
    "A typical problem in quantum optics is the interrogation of an atom with an external driving field. In this brief example we apply the [Ramsey interferometry](https://en.wikipedia.org/wiki/Ramsey_interferometry) on a single two-level atom. The distinctiveness of this method is the time dependent laser field. In particular, two short $\\pi/2$-pulses are employed with a free evolution between them.\n",
    "This system is described by the simple Hamiltonian\n",
    "\n",
    "$H = - \\Delta \\sigma^{22} +  \\Omega(t) (\\sigma^{21} + \\sigma^{12}),$\n",
    "\n",
    "where $\\Delta = \\omega_l - \\omega_a$ is the detuning between the laser and atomic resonance frequency, and $\\Omega(t)$ describes the time dependent driving field. Additionally we include atomic decay and dephasing, with the rates $\\Gamma$ and $\\nu$, respectively.\n",
    "\n",
    "We start by loading the packages.\n",
    "\n"
   ]
  },
  {
   "cell_type": "code",
   "execution_count": 1,
   "metadata": {},
   "outputs": [],
   "source": [
    "using QuantumCumulants\n",
    "using OrdinaryDiffEq, ModelingToolkit\n",
    "using Plots"
   ]
  },
  {
   "cell_type": "markdown",
   "metadata": {},
   "source": [
    "\n",
    "Beside defining the symbolic parameters we additionally need to [register](https://mtk.sciml.ai/stable/tutorials/ode_modeling/#Specifying-a-time-variable-forcing-function) a time dependent external function $f(t)$ for our driving laser. To this end we first need to define the independent variable $t$ of our time evolution. Due to the registration, $f(t)$ is treated as a parameter in the symbolic equations, but at the numerical evaluation we can assign every function to it."
   ]
  },
  {
   "cell_type": "code",
   "execution_count": 2,
   "metadata": {},
   "outputs": [],
   "source": [
    "@cnumbers Δ Ω Γ ν\n",
    "@syms t::Real\n",
    "@register_symbolic f(t)"
   ]
  },
  {
   "cell_type": "code",
   "execution_count": 3,
   "metadata": {},
   "outputs": [],
   "source": [
    "# Hilbert space\n",
    "h = NLevelSpace(:atom,2)\n",
    "\n",
    "# operator\n",
    "σ(i,j) = Transition(h, :σ, i, j, 2)\n",
    "\n",
    "# Hamiltonian\n",
    "H = -Δ*σ(2,2) + f(t)*Ω/2*(σ(1,2) + σ(2,1))\n",
    "\n",
    "# Jump operators & rates\n",
    "J = [σ(1,2), σ(2,2)]\n",
    "rates = [Γ, ν]\n",
    "nothing #hide"
   ]
  },
  {
   "cell_type": "markdown",
   "metadata": {},
   "source": [
    "The two-level atom is completely described with the excited state population and the coherence. Therefore we derive the equations for these two operators."
   ]
  },
  {
   "cell_type": "code",
   "execution_count": 4,
   "metadata": {},
   "outputs": [],
   "source": [
    "eqs = meanfield([σ(2,2), σ(1,2)],H,J;rates=rates)\n",
    "nothing #hide"
   ]
  },
  {
   "cell_type": "markdown",
   "metadata": {},
   "source": [
    "```math\n",
    "\\begin{align}\n",
    "\\frac{d}{dt} \\langle {\\sigma}^{{22}}\\rangle  =& -1.0 \\Gamma \\langle {\\sigma}^{{22}}\\rangle  + \\frac{1}{2} i \\Omega f\\left( t \\right) \\langle {\\sigma}^{{12}}\\rangle  + \\frac{-1}{2} i \\Omega f\\left( t \\right) \\langle {\\sigma}^{{21}}\\rangle  \\\\\n",
    "\\frac{d}{dt} \\langle {\\sigma}^{{12}}\\rangle  =& \\frac{-1}{2} i \\Omega f\\left( t \\right) -0.5 \\Gamma \\langle {\\sigma}^{{12}}\\rangle  -0.5 \\nu \\langle {\\sigma}^{{12}}\\rangle  + 1 i \\Delta \\langle {\\sigma}^{{12}}\\rangle  + 1 i \\Omega f\\left( t \\right) \\langle {\\sigma}^{{22}}\\rangle\n",
    "\\end{align}\n",
    "```"
   ]
  },
  {
   "cell_type": "code",
   "execution_count": 5,
   "metadata": {},
   "outputs": [],
   "source": [
    "@named sys = ODESystem(eqs)\n",
    "\n",
    "# Parameter\n",
    "Γ_ = 1.0\n",
    "Ω_ = 500Γ_\n",
    "Δ_ = 0Γ_\n",
    "ν_ = 0.2Γ_\n",
    "\n",
    "tp = π/2Ω_ # π/2-pulse\n",
    "tf = 1/20Γ_ # free evolution without drive\n",
    "\n",
    "function f(t)\n",
    "    if t<tp || (t>tp+tf && t<2tp+tf)\n",
    "        return 1\n",
    "    else\n",
    "        0\n",
    "    end\n",
    "end\n",
    "\n",
    "ps = [Γ; Ω; Δ; ν]\n",
    "p0 = [Γ_; Ω_; Δ_; ν_]\n",
    "\n",
    "# Initial state\n",
    "u0 = zeros(ComplexF64, length(eqs))\n",
    "nothing #hide"
   ]
  },
  {
   "cell_type": "markdown",
   "metadata": {},
   "source": [
    "Finally, we calculate and plot the time evolution."
   ]
  },
  {
   "cell_type": "code",
   "execution_count": 6,
   "metadata": {},
   "outputs": [
    {
     "data": {
      "text/plain": [
       "\"/home/christoph/git/QuantumCumulants.jl/docs/src/examples/jupyter_notebooks/timeevolution_ramsey.svg\""
      ]
     },
     "execution_count": 6,
     "metadata": {},
     "output_type": "execute_result"
    }
   ],
   "source": [
    "prob = ODEProblem(sys,u0,(0.0, 2tp+tf), ps.=>p0)\n",
    "sol = solve(prob,Tsit5(),maxiters=1e7)\n",
    "\n",
    "# Plot time evolution\n",
    "t = sol.t\n",
    "s22 = real.(sol[σ(2,2)])\n",
    "plot(t, s22, xlabel=\"tΓ\", ylabel=\"⟨σ22⟩\", legend=false, size=(600,300))\n",
    "savefig(\"timeevolution_ramsey.svg\") # hide"
   ]
  },
  {
   "cell_type": "markdown",
   "metadata": {},
   "source": [
    "![svg](timeevolution_ramsey.svg)"
   ]
  },
  {
   "cell_type": "markdown",
   "metadata": {},
   "source": [
    "Scanning over the detuning for the excited state population leads to the well-known Ramsey fringes."
   ]
  },
  {
   "cell_type": "code",
   "execution_count": 7,
   "metadata": {},
   "outputs": [
    {
     "data": {
      "text/plain": [
       "\"/home/christoph/git/QuantumCumulants.jl/docs/src/examples/jupyter_notebooks/scan_ramsey.svg\""
      ]
     },
     "execution_count": 7,
     "metadata": {},
     "output_type": "execute_result"
    }
   ],
   "source": [
    "Δ_ls = [-2000:4:2000;]Γ_\n",
    "s22_ls = zeros(length(Δ_ls))\n",
    "\n",
    "for i=1:length(Δ_ls)\n",
    "    prob_i = ODEProblem(sys,u0,(0.0, 2tp+tf), [Γ; Ω; Δ; ν].=>[Γ_; Ω_; Δ_ls[i]; ν_])\n",
    "    sol_i = solve(prob_i, RK4(); adaptive=false, dt=1e-5)\n",
    "    s22_ls[i] = real.(sol_i[σ(2,2)])[end]\n",
    "end\n",
    "\n",
    "plot(Δ_ls, s22_ls, xlabel=\"Δ/Γ\", ylabel=\"⟨σ22⟩\", legend=false, size=(600,300))\n",
    "savefig(\"scan_ramsey.svg\") # hide"
   ]
  },
  {
   "cell_type": "markdown",
   "metadata": {},
   "source": [
    "![svg](scan_ramsey.svg)"
   ]
  }
 ],
 "metadata": {
  "kernelspec": {
   "display_name": "Julia 1.10.2",
   "language": "julia",
   "name": "julia-1.10"
  },
  "language_info": {
   "file_extension": ".jl",
   "mimetype": "application/julia",
   "name": "julia",
   "version": "1.10.2"
  },
  "vscode": {
   "interpreter": {
    "hash": "6f38cfe8922d941c92fc591066a74813a9285a455efec88dafae5eaa218834d9"
   }
  }
 },
 "nbformat": 4,
 "nbformat_minor": 2
}
