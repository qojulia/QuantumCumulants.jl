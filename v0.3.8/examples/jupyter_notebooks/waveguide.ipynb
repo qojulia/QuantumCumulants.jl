{
 "cells": [
  {
   "cell_type": "markdown",
   "id": "8fbb2e1c",
   "metadata": {},
   "source": [
    "# Waveguide Energy Transfer"
   ]
  },
  {
   "cell_type": "markdown",
   "id": "85caca1c",
   "metadata": {},
   "source": [
    "In this example, we investigate the collective behaviour of atomic ensembles coupled to a waveguide. The waveguide-mediated dipole-dipole Hamiltonian is\n",
    "\\begin{equation*}\n",
    "    H = \\sum_{i \\neq j}^{N} \\Omega_{ij}^{1\\mathrm{D}} \\sigma^+_i \\sigma^-_j,\n",
    "\\end{equation*}\n",
    "with the coupling rate $\\Omega^{1\\mathrm{D}}_{ij}$.\n",
    "The incoherent part describing the dissipative processes is accounted for by the Lindblad term\n",
    "\\begin{equation*}\n",
    "    \\mathcal{L}[\\rho]=\\frac{1}{2}\\sum_{i,j}^N \\Gamma^{1\\mathrm{D}}_{ij} (2 \\sigma^-_i \\rho \\sigma^+_j-\\sigma^+_i \\sigma^-_j \\rho - \\rho \\sigma^+_i \\sigma^-_j)\n",
    "\\end{equation*}\n",
    "with the collective fiber-mediated decay rates $\\Gamma^{1\\mathrm{D}}_{ij}$. For $M$ atomic ensembles, where each of the $N_i$ atoms within an ensemble behaves identically, we can use $M$ spin-$N_i/2$ systems to describe them. This means \n",
    "\\begin{equation*}\n",
    "    H = \\sum_{i \\neq j}^{M} {\\Omega}_{ij}^{1\\mathrm{D}} S^+_i S^-_j \\hspace{0.75cm} \\mathrm{and} \\hspace{0.75cm} \\mathcal{L}[\\rho]=\\frac{1}{2}\\sum_{i,j}^M {\\Gamma}^{1\\mathrm{D}}_{ij} (2 S^-_i \\rho S^+_j-S^+_i S^-_j \\rho - \\rho S^+_i S^-_j),\n",
    "\\end{equation*}\n",
    "with $S^{\\pm}_i = S^x \\pm i S^y = \\sum_{k=1}^{N_i} \\sigma^{\\pm}_k$, where $S^{x,y,z}_i = \\frac{1}{2} \\sum_{k=1}^{N_i} \\sigma^{x,y,z}_k $."
   ]
  },
  {
   "cell_type": "markdown",
   "id": "cfbc9b35",
   "metadata": {},
   "source": [
    "After loading the needed packages we define the Hilbert space and spin operators of the $M$ atomic ensembles coupled to the waveguide. We also define the numerical paramters and utilize that $\\Omega_{ij} = \\Omega_{ji}$ and $\\Gamma_{ij} = \\Gamma_{ji}$. Due to this the derived equations are simplified further."
   ]
  },
  {
   "cell_type": "code",
   "execution_count": 4,
   "id": "13297fdc",
   "metadata": {},
   "outputs": [],
   "source": [
    "using QuantumCumulants\n",
    "using ModelingToolkit\n",
    "using OrdinaryDiffEq\n",
    "using QuantumOptics\n",
    "using Plots\n",
    "\n",
    "M_p = 2 # number of pumped spins\n",
    "M_np = 2 # number of non-pumped spins\n",
    "M = M_p + M_np \n",
    "\n",
    "# Hilbert space\n",
    "h_spin(i) = SpinSpace(\"spin_$(i)\")\n",
    "h = tensor([h_spin(i) for i=1:M]...) \n",
    "\n",
    "# Operators \n",
    "Sx(i) = Spin(h, \"S$(i)\", 1, i)\n",
    "Sy(i) = Spin(h, \"S$(i)\", 2, i)\n",
    "Sz(i) = Spin(h, \"S$(i)\", 3, i)\n",
    "\n",
    "Sm(i) = (Sx(i) - 1im*Sy(i))\n",
    "Sp(i) = (Sx(i) + 1im*Sy(i))\n",
    "\n",
    "# Paramter\n",
    "Ω(i,j) = i>j ? cnumber(\"Ω_$(j)_$(i)\") : cnumber(\"Ω_$(i)_$(j)\")\n",
    "Γ(i,j) = i>j ? cnumber(\"Γ_$(j)_$(i)\") : cnumber(\"Γ_$(i)_$(j)\")\n",
    "nothing # hide"
   ]
  },
  {
   "cell_type": "markdown",
   "id": "0e56812d",
   "metadata": {},
   "source": [
    "With the symbolic operators and paramters we define the Hamiltonian and the collective jump operators with the corresponding rates. For rates written in matrix form the program automatically assumes collective dissipation according to \n",
    "\\begin{equation*}\n",
    "    \\mathcal{L}[\\rho]=\\frac{1}{2}\\sum_{i,j}^M R_{ij} (2 J_i \\rho J^+_j-J^+_i \\rho J_j - \\rho J^+_i J_j),\n",
    "\\end{equation*}\n",
    "with the jump operator $J_i$ and the corresponding decay rate matrix $R_{ij}$. This implementation is similar to the one in [QuantumOptics.jl](https://docs.qojulia.org/timeevolution/master/) for collective dissipation."
   ]
  },
  {
   "cell_type": "code",
   "execution_count": 5,
   "id": "10652067",
   "metadata": {},
   "outputs": [],
   "source": [
    "# Hamiltonian\n",
    "H = sum( (i≠j)*Ω(i,j)*Sp(i)*Sm(j) for i=1:M for j=1:M)\n",
    "\n",
    "# Jump operators and rate matrix\n",
    "J = [Sm(c1) for c1=1:M]\n",
    "rates = [Γ(c1,c2) for c1=1:M, c2=1:M] \n",
    "nothing # hide"
   ]
  },
  {
   "cell_type": "markdown",
   "id": "57ac6573",
   "metadata": {},
   "source": [
    "Now we create a complete list of operators, which we use to derive the second-order equations. This is considerable faster than to automatically complete the equations. We only show one of the 90 rather lenghty equations."
   ]
  },
  {
   "cell_type": "code",
   "execution_count": 6,
   "id": "b4a27bad",
   "metadata": {},
   "outputs": [
    {
     "name": "stdout",
     "output_type": "stream",
     "text": [
      "Number of equations = 90\n"
     ]
    },
    {
     "data": {
      "text/latex": [
       "\\begin{align}\n",
       "\\frac{d}{dt} \\langle {S1}^{{z}}\\rangle  =& -1.0 \\langle {S1}^{{y}}  {S4}^{{y}}\\rangle  \\Gamma_{1\\_4} -1.0 \\langle {S1}^{{x}}  {S3}^{{x}}\\rangle  \\Gamma_{1\\_3} -1.0 \\langle {S1}^{{y}}  {S1}^{{y}}\\rangle  \\Gamma_{1\\_1} -1.0 \\langle {S1}^{{y}}  {S2}^{{y}}\\rangle  \\Gamma_{1\\_2} -1.0 \\langle {S1}^{{z}}\\rangle  \\Gamma_{1\\_1} -1.0 \\langle {S1}^{{x}}  {S1}^{{x}}\\rangle  \\Gamma_{1\\_1} + 2 \\langle {S1}^{{y}}  {S2}^{{x}}\\rangle  \\Omega_{1\\_2} + 2 \\langle {S1}^{{y}}  {S4}^{{x}}\\rangle  \\Omega_{1\\_4} -1.0 \\langle {S1}^{{x}}  {S2}^{{x}}\\rangle  \\Gamma_{1\\_2} -1.0 \\langle {S1}^{{x}}  {S4}^{{x}}\\rangle  \\Gamma_{1\\_4} -2 \\langle {S1}^{{x}}  {S3}^{{y}}\\rangle  \\Omega_{1\\_3} -2 \\langle {S1}^{{x}}  {S4}^{{y}}\\rangle  \\Omega_{1\\_4} -1.0 \\langle {S1}^{{y}}  {S3}^{{y}}\\rangle  \\Gamma_{1\\_3} + 2 \\langle {S1}^{{y}}  {S3}^{{x}}\\rangle  \\Omega_{1\\_3} -2 \\langle {S1}^{{x}}  {S2}^{{y}}\\rangle  \\Omega_{1\\_2}\n",
       "\\end{align}\n"
      ],
      "text/plain": [
       "∂ₜ(⟨S1z⟩) = -⟨S1y*S4y⟩*Γ_1_4 + -⟨S1x*S3x⟩*Γ_1_3 + -⟨S1y*S1y⟩*Γ_1_1 + -⟨S1y*S2y⟩*Γ_1_2 + -⟨S1z⟩*Γ_1_1 + -⟨S1x*S1x⟩*Γ_1_1 + 2⟨S1y*S2x⟩*Ω_1_2 + 2⟨S1y*S4x⟩*Ω_1_4 + -⟨S1x*S2x⟩*Γ_1_2 + -⟨S1x*S4x⟩*Γ_1_4 - 2⟨S1x*S3y⟩*Ω_1_3 - 2⟨S1x*S4y⟩*Ω_1_4 + -⟨S1y*S3y⟩*Γ_1_3 + 2⟨S1y*S3x⟩*Ω_1_3 - 2⟨S1x*S2y⟩*Ω_1_2\n"
      ]
     },
     "metadata": {},
     "output_type": "display_data"
    }
   ],
   "source": [
    "# create list of operators\n",
    "S(i) = [Sx(i), Sy(i), Sz(i)]\n",
    "SiSi(i) = [Sx(i)Sx(i), Sx(i)Sy(i), Sx(i)Sz(i), Sy(i)Sy(i), Sy(i)Sz(i), Sz(i)Sz(i)]\n",
    "ops = []; [push!(ops, S(i)...) for i=1:M]\n",
    "[push!(ops, SiSi(i)...) for i=1:M]\n",
    "for i=1:M, j=i:M\n",
    "    if i≠j\n",
    "        for α=1:3, β=1:3\n",
    "            push!(ops, S(i)[α]*S(j)[β])\n",
    "        end\n",
    "    end\n",
    "end\n",
    "println(\"Number of equations = $(length(ops))\")\n",
    "\n",
    "# derive equations\n",
    "eqs = meanfield(ops,H,J;rates=rates,order=2)\n",
    "meanfield(Sz(1),H,J;rates=rates,order=2)"
   ]
  },
  {
   "cell_type": "markdown",
   "id": "d6d0afe4",
   "metadata": {},
   "source": [
    "We define the numerical system paramters and the initial state. For spin operators the initial state is unfortunately not fully trivial with all zeros. Therefore, we use the [numeric conversion](https://qojulia.github.io/QuantumCumulants.jl/stable/implementation/#Numeric-averages-and-conversion) which allows us to define the quantum state in [QuantumOptics.jl](https://docs.qojulia.org/quantumobjects/states/) and convert it to the correct initial average values."
   ]
  },
  {
   "cell_type": "code",
   "execution_count": 7,
   "id": "3317702e",
   "metadata": {},
   "outputs": [],
   "source": [
    "# System paramters\n",
    "Γ_ = 1.0  #Γ1D\n",
    "Ω_ = Γ_/2 #Ω1D\n",
    "\n",
    "# positions\n",
    "x_p = [i/M_p for i=0:M_p-1]*2π\n",
    "x_np = [i/M_np for i=0:M_np-1]*2π\n",
    "x_ls = [x_p; x_np]\n",
    "\n",
    "Γij(i,j) = cos(abs(x_ls[i] - x_ls[j]))\n",
    "Γ_ls = [Γij(i,j) for i=1:M for j=1:M]*Γ_\n",
    "Ωij(i,j) = sin(abs(x_ls[i] - x_ls[j]))\n",
    "Ω_ls = [Ωij(i,j) for i=1:M for j=1:M]*Ω_\n",
    "\n",
    "ps = [[Γ(i,j) for i=1:M for j=1:M]; [Ω(i,j) for i=1:M for j=1:M]; ]\n",
    "p0 = [Γ_ls; Ω_ls;]\n",
    "nothing # hide"
   ]
  },
  {
   "cell_type": "markdown",
   "id": "1c6149a9",
   "metadata": {},
   "source": [
    "Note that the function [coherentspinstate](https://docs.qojulia.org/api/#QuantumOpticsBase.coherentspinstate) can only reliably produce states for spins with a length of about $10^4$, for [spindown](https://docs.qojulia.org/api/#QuantumOpticsBase.spindown) or [spinup](https://docs.qojulia.org/api/#QuantumOpticsBase.spinup) there is no restriction. Also, we created the function `LazyKet`, which allows you to define product states without calculating the tensor product directly. This makes it possible to define initial (product) states for very large quantum systems. The function [`initial_values`](@ref)(eqs, $\\psi$) calculates the initial values for a set of equations `eqs` with the initial quantum state $\\psi$."
   ]
  },
  {
   "cell_type": "code",
   "execution_count": 8,
   "id": "22abdd8e",
   "metadata": {},
   "outputs": [],
   "source": [
    "# initial state\n",
    "N_p = 8000 # number of pumped atoms\n",
    "N_np = 2000 # number of non-pumped atoms\n",
    "bs1 = SpinBasis(N_p/2/M_p) # spin basis for pumped atoms\n",
    "bs2 = SpinBasis(N_np/2/M_np) # spin basis for non-pumped atoms\n",
    "b = tensor([bs1 for i=1:M_p]..., [bs2 for i=1:M_np]...)\n",
    "\n",
    "Θ = π/3 # corresponds to an excitation of 75%\n",
    "ψ_p = coherentspinstate(bs1, Θ, 0.0) # initially pumped atoms\n",
    "ψ_np = spindown(bs2) # initially non-pumped atoms\n",
    "ψ0 = LazyKet(b, ([ψ_p for i=1:M_p]..., [ψ_np for i=1:M_np]...))\n",
    "u0 = initial_values(eqs, ψ0)\n",
    "nothing # hide"
   ]
  },
  {
   "cell_type": "markdown",
   "id": "af598fc1",
   "metadata": {},
   "source": [
    "Finally, we create the ODE-problem, calculate the dynamics and plot the results. We see a fast transfer of the popualtion from the initially excited to the other atomic ensemble."
   ]
  },
  {
   "cell_type": "code",
   "execution_count": 9,
   "id": "fc1c7c77",
   "metadata": {},
   "outputs": [],
   "source": [
    "@named sys = ODESystem(eqs)\n",
    "prob = ODEProblem(sys,u0,(0.0, 8e-3), ps.=>p0)\n",
    "sol = solve(prob,Tsit5(),abstol=1e-6,reltol=1e-6)\n",
    "nothing # hide"
   ]
  },
  {
   "cell_type": "code",
   "execution_count": 10,
   "id": "85e5de5f",
   "metadata": {},
   "outputs": [
    {
     "data": {
      "text/plain": [
       "\"/home/christoph/git/QuantumCumulants.jl/docs/src/examples/jupyter_notebooks/waveguide.svg\""
      ]
     },
     "metadata": {},
     "output_type": "display_data"
    }
   ],
   "source": [
    "t = sol.t * 1e3\n",
    "Sz_t(i) = real.(sol[Sz(i)])\n",
    "N_ls = [[N_p for i=1:M_p] ./ M_p; [N_np for i=1:M_np] ./ M_np ]\n",
    "σ22_t(i) = Sz_t(i)/N_ls[i] .+ 1/2\n",
    "σ22_p_t = sum(σ22_t(i) for i=1:M_p) ./ M_p\n",
    "σ22_np_t = sum(σ22_t(i) for i=M_p+1:M_p+M_np) ./ M_np\n",
    "\n",
    "p = plot(xlabel=\"Γ1D t ⋅ 10³\", ylabel=\"⟨σ²²⟩\")\n",
    "plot!(p,t,σ22_p_t,label=\"pumped\") \n",
    "plot!(p,t,σ22_np_t, label=\"non-pumped\") \n",
    "plot(p, size=(500,300))\n",
    "savefig(\"waveguide.svg\") # hide"
   ]
  }
 ],
 "metadata": {
  "kernelspec": {
   "display_name": "Julia 1.10.2",
   "language": "julia",
   "name": "julia-1.10"
  },
  "language_info": {
   "file_extension": ".jl",
   "mimetype": "application/julia",
   "name": "julia",
   "version": "1.10.2"
  }
 },
 "nbformat": 4,
 "nbformat_minor": 5
}
