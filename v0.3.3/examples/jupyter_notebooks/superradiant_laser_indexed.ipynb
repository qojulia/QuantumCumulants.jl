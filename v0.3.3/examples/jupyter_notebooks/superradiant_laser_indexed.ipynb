{
 "cells": [
  {
   "cell_type": "markdown",
   "metadata": {},
   "source": [
    "# Superradiant Laser"
   ]
  },
  {
   "cell_type": "markdown",
   "metadata": {},
   "source": [
    "Using symmetry properties of a system can reduce the number of needed equations dramatically. A common approximation for laser systems to handle sufficiently big atom numbers is to assume that several atoms in the system behave completely identically. This means all the identical atoms have the same averages.\n",
    "\n",
    "In this example we describe a so-called superradiant laser, where we assume all atoms to be identical. This model has been described in [D. Meiser et al., Phys. Rev. Lett. 102, 163601 (2009):](https://journals.aps.org/prl/abstract/10.1103/PhysRevLett.102.163601) The Hamiltonian of this system is "
   ]
  },
  {
   "cell_type": "markdown",
   "metadata": {},
   "source": [
    "\\begin{equation}\n",
    "H = - \\hbar \\Delta a^\\dagger a +  \\hbar \\sum\\limits_{j=1}^{N}  g_j (a^\\dagger \\sigma^{12}_{j} + a \\sigma^{21}_{j}) ,\n",
    "\\end{equation}"
   ]
  },
  {
   "cell_type": "markdown",
   "metadata": {},
   "source": [
    "where $\\Delta = \\omega_a - \\omega_c$ is the detuning between the cavity ($\\omega_c$) and the atomic ($\\omega_a$) resonance frequency, the atom cavity coupling of the atom $j$ is denoted by $g_j$. Additionally there are dissipative processes in the system, namely: Atoms are incoherently pumped with the rate $R$, they decay individually with the rate $\\Gamma$ and are affected by individual atomic dephasing with the rate $\\nu$. Photons leak out of the system with the rate $\\kappa$.\n",
    "\n",
    "We start by loading the packages."
   ]
  },
  {
   "cell_type": "code",
   "execution_count": null,
   "metadata": {},
   "outputs": [],
   "source": [
    "using QuantumCumulants\n",
    "using OrdinaryDiffEq, SteadyStateDiffEq, ModelingToolkit\n",
    "using Plots"
   ]
  },
  {
   "cell_type": "markdown",
   "metadata": {},
   "source": [
    "Due to the implementation of symbolic indices and sums we only need to define the Hilbert space for one atom, even though we will simulate a system for several thousand.\n",
    "Creating an operator with an $\\texttt{Index}$ is done with the constructor $\\texttt{IndexedOperator}$."
   ]
  },
  {
   "cell_type": "code",
   "execution_count": null,
   "metadata": {},
   "outputs": [],
   "source": [
    "# Hilbertspace\n",
    "hc = FockSpace(:cavity)\n",
    "ha = NLevelSpace(:atom,2)\n",
    "h = hc ⊗ ha\n",
    "\n",
    "# operators\n",
    "@qnumbers a::Destroy(h)\n",
    "σ(α,β,i) = IndexedOperator(Transition(h, :σ, α, β),i)\n",
    "nothing # hide"
   ]
  },
  {
   "cell_type": "markdown",
   "metadata": {},
   "source": [
    "Now we define the indices and the parameters of the system. An $\\texttt{Index}$ needs the system Hilbert space, a symbol, an upper bound and the specific Hilbert space of the indexed operator. $\\texttt{IndexedVariable}$ creates indexed variables. Actually we wouldn't need indexed variable in this example, this is just for demonstration purposes."
   ]
  },
  {
   "cell_type": "code",
   "execution_count": null,
   "metadata": {},
   "outputs": [],
   "source": [
    "@cnumbers N Δ κ Γ R ν\n",
    "g(i) = IndexedVariable(:g, i) \n",
    "\n",
    "i = Index(h,:i,N,ha)\n",
    "j = Index(h,:j,N,ha)"
   ]
  },
  {
   "cell_type": "markdown",
   "metadata": {},
   "source": [
    "We define the Hamiltonian using symbolic sums and define the individual dissipative processes. For an indexed jump operator the (symbolic) sum is build in the Liouvillian."
   ]
  },
  {
   "cell_type": "code",
   "execution_count": null,
   "metadata": {},
   "outputs": [],
   "source": [
    "# Hamiltonian\n",
    "H = -Δ*a'a + Σ(g(i)*( a'*σ(1,2,i) + a*σ(2,1,i) ),i)\n",
    "\n",
    "# Jump operators with corresponding rates\n",
    "J = [a, σ(1,2,i), σ(2,1,i), σ(2,2,i)]\n",
    "rates = [κ, Γ, R, ν]\n",
    "nothing # hide"
   ]
  },
  {
   "cell_type": "markdown",
   "metadata": {},
   "source": [
    "First we want to derive the equation for $\\langle a^\\dagger a \\rangle$ and $\\langle \\sigma_j^{22} \\rangle$. Note that you can only use indices on the LHS which haven't been used for the Hamiltonian and the jumps. "
   ]
  },
  {
   "cell_type": "code",
   "execution_count": null,
   "metadata": {},
   "outputs": [],
   "source": [
    "# Derive equations\n",
    "ops = [a'*a, σ(2,2,j)]\n",
    "eqs = meanfield(ops,H,J;rates=rates,order=2)"
   ]
  },
  {
   "cell_type": "markdown",
   "metadata": {},
   "source": [
    "To get a closed set of equations we automatically complete the system. Since this system is phase invariant we know that all averages with a phase are zero, therefore we exclude these terms with a filter function. To be able to dispatch on all kind of sums containing averages we defined the Union $\\texttt{AvgSums}$."
   ]
  },
  {
   "cell_type": "code",
   "execution_count": null,
   "metadata": {},
   "outputs": [],
   "source": [
    "# custom filter function\n",
    "φ(x::Average) = φ(x.arguments[1])\n",
    "φ(::Destroy) = -1\n",
    "φ(::Create) =1\n",
    "φ(x::QTerm) = sum(map(φ, x.args_nc))\n",
    "φ(x::Transition) = x.i - x.j\n",
    "φ(x::IndexedOperator) = x.op.i - x.op.j\n",
    "φ(x::SingleSum) = φ(x.term) \n",
    "φ(x::AvgSums) = φ(arguments(x))\n",
    "phase_invariant(x) = iszero(φ(x))\n",
    "\n",
    "# Complete equations\n",
    "eqs_c = complete(eqs; filter_func=phase_invariant)"
   ]
  },
  {
   "cell_type": "markdown",
   "metadata": {},
   "source": [
    "As mentioned before, we assume that all atoms behave identical. This means that e.g. the excited state population is equal for all atoms, hence we only need to calculate it for the first $\\langle \\sigma^{22}_1 \\rangle = \\langle \\sigma^{22}_j \\rangle$. Furthermore, it is clear that a sum over $N$ identical objects can be replaced by $N$ times the object. The function $\\texttt{scale()}$ uses these rules to simplify the equations."
   ]
  },
  {
   "cell_type": "code",
   "execution_count": null,
   "metadata": {},
   "outputs": [],
   "source": [
    "eqs_sc = scale(eqs_c)"
   ]
  },
  {
   "cell_type": "markdown",
   "metadata": {},
   "source": [
    "To calculate the dynamic of the system we create a system of ordinary differential equations, which can be used by [DifferentialEquations.jl](https://diffeq.sciml.ai/stable/)."
   ]
  },
  {
   "cell_type": "code",
   "execution_count": null,
   "metadata": {},
   "outputs": [],
   "source": [
    "@named sys = ODESystem(eqs_sc)\n",
    "nothing # hide"
   ]
  },
  {
   "cell_type": "markdown",
   "metadata": {},
   "source": [
    "Finally we need to define the numerical parameters and the initial value of the system. We will consider $2 \\cdot 10^5$ Strontium atoms which are repumped with a rate of $R = 1\\text{Hz}$ on the clock transition ($\\Gamma = 1 \\text{mHz}$). The atom-cavity coupling rate is $g = 1\\text{Hz}$, the cavity has a linewidth of $\\kappa = 5\\text{kHz}$ and is detuned from the atomic resonance by $\\Delta = 2.5\\text{Hz}$."
   ]
  },
  {
   "cell_type": "code",
   "execution_count": null,
   "metadata": {},
   "outputs": [],
   "source": [
    "# Initial state\n",
    "u0 = zeros(ComplexF64, length(eqs_sc))\n",
    "# System parameters\n",
    "N_ = 2e5\n",
    "Γ_ = 1.0 #Γ=1mHz\n",
    "Δ_ = 2500Γ_ #Δ=2.5Hz\n",
    "g_ = 1000Γ_ #g=1Hz\n",
    "κ_ = 5e6*Γ_ #κ=5kHz\n",
    "R_ = 1000Γ_ #R=1Hz\n",
    "ν_ = 1000Γ_ #ν=1Hz\n",
    "\n",
    "ps = [N, Δ, g(1), κ, Γ, R, ν]\n",
    "p0 = [N_, Δ_, g_, κ_, Γ_, R_, ν_]\n",
    "\n",
    "prob = ODEProblem(sys,u0,(0.0, 1.0/50Γ_), ps.=>p0)\n",
    "nothing # hide"
   ]
  },
  {
   "cell_type": "code",
   "execution_count": null,
   "metadata": {},
   "outputs": [],
   "source": [
    "# Solve the numeric problem\n",
    "sol = solve(prob,Tsit5(),maxiters=1e7)\n",
    "\n",
    "# Plot time evolution\n",
    "t = sol.t\n",
    "n = real.(sol[a'a])\n",
    "s22 = real.(sol[σ(2,2,1)])\n",
    "# Plot\n",
    "p1 = plot(t, n, xlabel=\"tΓ\", ylabel=\"⟨a⁺a⟩\", legend=false)\n",
    "p2 = plot(t, s22, xlabel=\"tΓ\", ylabel=\"⟨σ22⟩\", legend=false)\n",
    "plot(p1, p2, layout=(1,2), size=(700,300))\n",
    "savefig(\"superradiant_laser_indexed.svg\") # hide"
   ]
  },
  {
   "cell_type": "markdown",
   "metadata": {},
   "source": [
    "## Spectrum"
   ]
  },
  {
   "cell_type": "markdown",
   "metadata": {},
   "source": [
    "We calculate the spectrum here with the Laplace transform of the two-time correlation function. This is implemented with the function $\\texttt{Spectrum}$."
   ]
  },
  {
   "cell_type": "code",
   "execution_count": null,
   "metadata": {},
   "outputs": [],
   "source": [
    "corr = CorrelationFunction(a', a, eqs_c; steady_state=true, filter_func=phase_invariant)\n",
    "corr_sc = scale(corr)\n",
    "S = Spectrum(corr_sc, ps)\n",
    "nothing # hide"
   ]
  },
  {
   "cell_type": "markdown",
   "metadata": {},
   "source": [
    "The set of equations for the correlation function is given by"
   ]
  },
  {
   "cell_type": "code",
   "execution_count": null,
   "metadata": {},
   "outputs": [],
   "source": [
    "corr_sc.de"
   ]
  },
  {
   "cell_type": "markdown",
   "metadata": {},
   "source": [
    "To ensure we are in the steady state we use a steady solver to calculate it. To this end we need to define the $\\texttt{SteadyStateProblem}$ and specify the desired method. We also need to increase the $\\texttt{maxiters}$ and the solver accuracy to handle this numerically involved problem."
   ]
  },
  {
   "cell_type": "code",
   "execution_count": null,
   "metadata": {},
   "outputs": [],
   "source": [
    "prob_ss = SteadyStateProblem(sys,sol.u[end],ps.=>p0)\n",
    "sol_ss = solve(prob_ss, SSRootfind())\n",
    "nothing # hide"
   ]
  },
  {
   "cell_type": "markdown",
   "metadata": {},
   "source": [
    "The spectrum is then calculated with"
   ]
  },
  {
   "cell_type": "code",
   "execution_count": null,
   "metadata": {},
   "outputs": [],
   "source": [
    "ω = [-10:0.01:10;]Γ_\n",
    "spec = S(ω,sol_ss.u,p0)\n",
    "spec_n = spec ./ maximum(spec)\n",
    "δ = abs(ω[(findmax(spec)[2])]) "
   ]
  },
  {
   "cell_type": "code",
   "execution_count": null,
   "metadata": {},
   "outputs": [],
   "source": [
    "plot(ω, spec_n, xlabel=\"ω/Γ\", legend=false, size=(500,300))\n",
    "savefig(\"spectrum_superradiant_laser_indexed.svg\") # hide"
   ]
  },
  {
   "cell_type": "markdown",
   "metadata": {},
   "source": [
    "Beside the narrow linewidth we can also see another key feature of the superradiant laser here, namely the very weak cavity pulling. At a detunig of $\\Delta = 2500\\Gamma$ there is only a shift of the laser light from the atomic resonance frequency of $\\delta = 1\\Gamma$."
   ]
  }
 ],
 "metadata": {
  "@webio": {
   "lastCommId": null,
   "lastKernelId": null
  },
  "kernelspec": {
   "display_name": "Julia 1.10.2",
   "language": "julia",
   "name": "julia-1.10"
  },
  "language_info": {
   "file_extension": ".jl",
   "mimetype": "application/julia",
   "name": "julia",
   "version": "1.10.2"
  }
 },
 "nbformat": 4,
 "nbformat_minor": 4
}
