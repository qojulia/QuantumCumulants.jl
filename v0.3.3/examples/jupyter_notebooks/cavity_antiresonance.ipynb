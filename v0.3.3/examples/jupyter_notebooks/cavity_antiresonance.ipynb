{
 "cells": [
  {
   "cell_type": "markdown",
   "metadata": {},
   "source": [
    "# Cavity Antiresonance\n",
    "\n",
    "In this example we investigate a system of $N$ closely spaced quantum emitters inside a coherently driven single mode cavity. The model is descriped in [D. Plankensteiner, et. al., Phys. Rev. Lett. 119, 093601 (2017)](https://journals.aps.org/prl/abstract/10.1103/PhysRevLett.119.093601).\n",
    "The Hamiltonian of this system is composed of three parts $H = H_c + H_a + H_{\\mathrm{int}}$, the driven cavity $H_c$, the dipole-dipole interacting atoms $H_a$ and the atom-cavity interaction $H_\\mathrm{int}$:\n",
    "\n",
    "```math\n",
    "\\begin{align*}\n",
    "H_\\mathrm{c} &= \\Delta_c a^\\dagger a + \\eta (a^\\dagger + a) \\\\\n",
    "&\\\\\n",
    "H_a &= \\Delta_a \\sum\\limits_{j} \\sigma_j^{22} + \\sum\\limits_{i \\neq j} \\Omega_{ij} \\sigma_i^{21} \\sigma_j^{12} \\\\\n",
    "&\\\\\n",
    "H_\\mathrm{int} &= \\sum\\limits_{j} g_j (a^\\dagger \\sigma_j^{12} + a \\sigma_j^{21})\n",
    "\\end{align*}\n",
    "```\n",
    "\n",
    "Additionally the system features two decay channels, the lossy cavity with photon decay rate $\\kappa$ and collective atomic emission described by the decay-rate matrix $\\Gamma_{ij}$. In our example we will consider the case of $N=2$ atoms.\n",
    "\n",
    "We start by loading the packages.\n"
   ]
  },
  {
   "cell_type": "code",
   "execution_count": 1,
   "metadata": {},
   "outputs": [],
   "source": [
    "using QuantumCumulants\n",
    "using OrdinaryDiffEq, SteadyStateDiffEq, ModelingToolkit\n",
    "using Plots"
   ]
  },
  {
   "cell_type": "markdown",
   "metadata": {},
   "source": [
    "The Hilbert space for this system is given by one cavity mode and $N$ two-level atoms and the parameters $g_j, \\, \\Gamma_{ij}$ and $\\Omega_{ij}$ are defined as a function of atom $i$ and $j$. We will describe the system in first order mean-field."
   ]
  },
  {
   "cell_type": "code",
   "execution_count": 2,
   "metadata": {},
   "outputs": [],
   "source": [
    "order = 1\n",
    "@cnumbers Δc η Δa κ\n",
    "\n",
    "g(j) = cnumbers(Symbol(g, j))[1]\n",
    "Γ(i,j) = cnumbers(Symbol(Γ, i, j))[1]\n",
    "Ω(i,j) = cnumbers(Symbol(Ω, i, j))[1]\n",
    "\n",
    "N = 2 #number of atoms\n",
    "hc = FockSpace(:cavity)\n",
    "ha = ⊗([NLevelSpace(Symbol(:atom,i),2) for i=1:N]...)\n",
    "h = hc ⊗ ha\n",
    "nothing # hide"
   ]
  },
  {
   "cell_type": "markdown",
   "metadata": {},
   "source": [
    "\n",
    "Now we create the operators on the composite Hilbert space. The transition operator of the $k$-th atom acts here on the Hilbert space $k+1$, since the first Hilbert space is the one of the cavity.\n"
   ]
  },
  {
   "cell_type": "code",
   "execution_count": 3,
   "metadata": {},
   "outputs": [],
   "source": [
    "@qnumbers a::Destroy(h)\n",
    "σ(i,j,k) = Transition(h,Symbol(\"σ_{$k}\"),i,j,k+1)\n",
    "nothing # hide"
   ]
  },
  {
   "cell_type": "markdown",
   "metadata": {},
   "source": [
    "We define the Hamiltonian and Liouvillian. For the collective atomic decay we can write the corresponding jump process with a rate-matrix $R$ and a vector $J$ of jump operators, such that an operator $\\mathcal{O}$ follows the equation\n",
    "\n",
    "$\\dot{\\mathcal{O}} = \\sum_{ij} R_{ij} (J_i^\\dagger \\mathcal{O} J_j - J_i^\\dagger J_j \\mathcal{O}/2 -  \\mathcal{O} J_i^\\dagger J_j/2) + \\mathrm{noise}.$\n"
   ]
  },
  {
   "cell_type": "code",
   "execution_count": 4,
   "metadata": {},
   "outputs": [],
   "source": [
    "# Hamiltonian\n",
    "Hc = Δc*a'a + η*(a' + a)\n",
    "Ha = Δa*sum(σ(2,2,k) for k=1:N) +\n",
    "    sum(Ω(i,j)*σ(2,1,i)*σ(1,2,j)*(i≠j) for i=1:N for j=1:N)\n",
    "Hi = sum(g(k)*(a'σ(1,2,k) + a*σ(2,1,k)) for k=1:N)\n",
    "H = Hc + Ha + Hi\n",
    "\n",
    "# Jump operators & and rates\n",
    "J = [a, [σ(1,2,k) for k=1:N]]\n",
    "rates = [κ, [Γ(i,j) for i=1:N, j=1:N]]\n",
    "nothing # hide"
   ]
  },
  {
   "cell_type": "markdown",
   "metadata": {},
   "source": [
    "\n",
    "Using the Hamiltonina and Liouvillian we derive the system of equations in first order mean-field.\n",
    "\n"
   ]
  },
  {
   "cell_type": "code",
   "execution_count": 5,
   "metadata": {},
   "outputs": [],
   "source": [
    "ops = [a, σ(2,2,1), σ(1,2,1)]\n",
    "eqs = meanfield(ops,H,J;rates=rates,order=order)\n",
    "nothing # hide"
   ]
  },
  {
   "cell_type": "markdown",
   "metadata": {},
   "source": [
    "```math\n",
    "\\begin{align}\n",
    "\\frac{d}{dt} \\langle a\\rangle  =& -1 i \\eta -0.5 \\kappa \\langle a\\rangle  -1 i {\\Delta}c \\langle a\\rangle  -1 i g1 \\langle {\\sigma_{1}}^{{12}}\\rangle  -1 i g2 \\langle {\\sigma_{2}}^{{12}}\\rangle  \\\\\n",
    "\\frac{d}{dt} \\langle {\\sigma_{1}}^{{22}}\\rangle  =& -1.0 {\\Gamma}11 \\langle {\\sigma_{1}}^{{22}}\\rangle  -0.5 {\\Gamma}21 \\langle {\\sigma_{2}}^{{21}}\\rangle  \\langle {\\sigma_{1}}^{{12}}\\rangle  + 1 i g1 \\langle a^\\dagger\\rangle  \\langle {\\sigma_{1}}^{{12}}\\rangle  -1 i g1 \\langle a\\rangle  \\langle {\\sigma_{1}}^{{21}}\\rangle  + 1 i {\\Omega}21 \\langle {\\sigma_{2}}^{{21}}\\rangle  \\langle {\\sigma_{1}}^{{12}}\\rangle  -0.5 {\\Gamma}12 \\langle {\\sigma_{1}}^{{21}}\\rangle  \\langle {\\sigma_{2}}^{{12}}\\rangle  -1 i {\\Omega}12 \\langle {\\sigma_{1}}^{{21}}\\rangle  \\langle {\\sigma_{2}}^{{12}}\\rangle  \\\\\n",
    "\\frac{d}{dt} \\langle {\\sigma_{1}}^{{12}}\\rangle  =& -1 i g1 \\langle a\\rangle  -0.5 {\\Gamma}11 \\langle {\\sigma_{1}}^{{12}}\\rangle  -1 i {\\Delta}a \\langle {\\sigma_{1}}^{{12}}\\rangle  -0.5 {\\Gamma}12 \\langle {\\sigma_{2}}^{{12}}\\rangle  -1 i {\\Omega}12 \\langle {\\sigma_{2}}^{{12}}\\rangle  + {\\Gamma}12 \\langle {\\sigma_{1}}^{{22}}\\rangle  \\langle {\\sigma_{2}}^{{12}}\\rangle  + 2 i g1 \\langle a\\rangle  \\langle {\\sigma_{1}}^{{22}}\\rangle  + 2 i {\\Omega}12 \\langle {\\sigma_{1}}^{{22}}\\rangle  \\langle {\\sigma_{2}}^{{12}}\\rangle\n",
    "\\end{align}\n",
    "```"
   ]
  },
  {
   "cell_type": "markdown",
   "metadata": {},
   "source": [
    "\n",
    "We complete the set of equations automatically and create an ordinary differential equation system in order to solve it numerically."
   ]
  },
  {
   "cell_type": "code",
   "execution_count": 6,
   "metadata": {},
   "outputs": [],
   "source": [
    "complete!(eqs)\n",
    "@named sys = ODESystem(eqs)\n",
    "nothing # hide"
   ]
  },
  {
   "cell_type": "markdown",
   "metadata": {},
   "source": [
    "Finally we need to define the initial state of the system and the numerical parameters. In the end we want to obtain the transmission rate $T$ of our system. For this purpose we calculate the steady state photon number in the cavity $|\\langle a \\rangle|^2$ for different laser frequencies.\n"
   ]
  },
  {
   "cell_type": "code",
   "execution_count": 7,
   "metadata": {},
   "outputs": [],
   "source": [
    "u0 = zeros(ComplexF64, length(eqs))\n",
    "# parameter\n",
    "Γ_ = 1.0\n",
    "d = 2π*0.08 #0.08λ\n",
    "θ = π/2\n",
    "Ωij_(i,j) = Γ_*(-3/4)*( (1-(cos(θ))^2)*cos(d)/d-(1-3*(cos(θ))^2)*(sin(d)/(d^2)+(cos(d)/(d^3))) )\n",
    "function Γij_(i,j)\n",
    "    i==j ? Γ_ : Γ_*(3/2)*( (1-(cos(θ))^2)*sin(d)/d+(1-3*(cos(θ))^2)*((cos(d)/(d^2))-(sin(d)/(d^3))))\n",
    "end\n",
    "\n",
    "g_ = 2Γ_\n",
    "κ_ = 20Γ_\n",
    "Δa_ = 0Γ_\n",
    "Δc_ = 0Γ_\n",
    "η_ = κ_/100\n",
    "\n",
    "ps = [Δc, η, Δa, κ, [g(j) for j=1:N]..., [Γ(i,j) for i=1:N for j=1:N]...,\n",
    "    [Ω(i,j) for i=1:N for j=1:N  if i≠j]...]\n",
    "p0 = [Δc_, η_, Δa_, κ_, [g_*(-1)^j for j=1:N]...,\n",
    "    [Γij_(i,j) for i=1:N for j=1:N]..., [Ωij_(i,j) for i=1:N for j=1:N  if i≠j]...]\n",
    "nothing # hide"
   ]
  },
  {
   "cell_type": "code",
   "execution_count": 8,
   "metadata": {},
   "outputs": [],
   "source": [
    "Δ_ls = [-10:0.05:10;]Γ_\n",
    "n_ls = zeros(length(Δ_ls))\n",
    "\n",
    "for i=1:length(Δ_ls)\n",
    "    Δc_i = Δ_ls[i]\n",
    "    Δa_i = Δc_i + Ωij_(1,2) #cavity on resonace with the shifted collective emitter\n",
    "    p0_i = [Δc_i, η_, Δa_i, κ_, [g_*(-1)^j for j=1:N]..., [Γij_(i,j) for i=1:N for j=1:N]...,\n",
    "        [Ωij_(i,j) for i=1:N for j=1:N  if i≠j]...]\n",
    "    prob = ODEProblem(sys,u0,(0.0, 20Γ_), ps.=>p0_i);\n",
    "    prob_ss = SteadyStateProblem(prob);\n",
    "    sol_ss = solve(prob_ss, DynamicSS(Tsit5(); abstol=1e-8, reltol=1e-8),\n",
    "        reltol=1e-14, abstol=1e-14, maxiters=5e7)\n",
    "    n_ls[i] = abs2(sol_ss[a])\n",
    "end\n",
    "nothing # hide"
   ]
  },
  {
   "cell_type": "markdown",
   "metadata": {},
   "source": [
    "The transmission rate $T$ with respect to the pump laser detuning is given by the relative steady state intra-cavity photon number $n(\\Delta)/n_\\mathrm{max}$. We qualitatively reproduce the antiresonance from [D. Plankensteiner, et. al., Phys. Rev. Lett. 119, 093601 (2017)](https://journals.aps.org/prl/abstract/10.1103/PhysRevLett.119.093601) for two atoms.\n"
   ]
  },
  {
   "cell_type": "code",
   "execution_count": 9,
   "metadata": {},
   "outputs": [
    {
     "data": {
      "text/plain": [
       "\"/home/christoph/git/QuantumCumulants.jl/docs/src/examples/jupyter_notebooks/antiresonance.svg\""
      ]
     },
     "execution_count": 9,
     "metadata": {},
     "output_type": "execute_result"
    }
   ],
   "source": [
    "T = n_ls ./ maximum(n_ls)\n",
    "plot(Δ_ls, T, xlabel=\"Δ/Γ\", ylabel=\"T\", legend=false)\n",
    "savefig(\"antiresonance.svg\") # hide"
   ]
  },
  {
   "cell_type": "markdown",
   "metadata": {},
   "source": [
    "![svg](antiresonance.svg)"
   ]
  }
 ],
 "metadata": {
  "kernelspec": {
   "display_name": "Julia 1.10.2",
   "language": "julia",
   "name": "julia-1.10"
  },
  "language_info": {
   "file_extension": ".jl",
   "mimetype": "application/julia",
   "name": "julia",
   "version": "1.10.2"
  },
  "vscode": {
   "interpreter": {
    "hash": "6f38cfe8922d941c92fc591066a74813a9285a455efec88dafae5eaa218834d9"
   }
  }
 },
 "nbformat": 4,
 "nbformat_minor": 2
}
