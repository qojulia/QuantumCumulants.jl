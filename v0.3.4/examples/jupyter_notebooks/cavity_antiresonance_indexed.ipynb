{
 "cells": [
  {
   "cell_type": "markdown",
   "metadata": {},
   "source": [
    "# Cavity Antiresonance"
   ]
  },
  {
   "cell_type": "markdown",
   "metadata": {},
   "source": [
    "In this example we investigate a system of $N$ closely spaced quantum emitters inside a coherently driven single mode cavity. The model is descriped in [D. Plankensteiner, et. al., Phys. Rev. Lett. 119, 093601 (2017)](https://journals.aps.org/prl/abstract/10.1103/PhysRevLett.119.093601).\n",
    "The Hamiltonian of this system is composed of three parts $H = H_c + H_a + H_{\\mathrm{int}}$, the driven cavity $H_c$, the dipole-dipole interacting atoms $H_a$ and the atom-cavity interaction $H_\\mathrm{int}$:"
   ]
  },
  {
   "cell_type": "markdown",
   "metadata": {},
   "source": [
    "\\begin{align}\n",
    "H_\\mathrm{c} &= \\hbar \\Delta_c a^\\dagger a + \\hbar \\eta (a^\\dagger + a) \\\\\n",
    "&\\\\\n",
    "H_a &= \\hbar \\Delta_a \\sum\\limits_{j} \\sigma_j^{22} + \\hbar \\sum\\limits_{i \\neq j} \\Omega_{ij} \\sigma_i^{21} \\sigma_j^{12}\n",
    "&\\\\\n",
    "H_\\mathrm{int} &= \\hbar \\sum\\limits_{j} g_j (a^\\dagger \\sigma_j^{12} + a \\sigma_j^{21})\n",
    "\\end{align}"
   ]
  },
  {
   "cell_type": "markdown",
   "metadata": {},
   "source": [
    "Additionally the system features two decay channels, the lossy cavity with photon decay rate $\\kappa$ and collective atomic emission described by the decay-rate matrix $\\Gamma_{ij}$.\n",
    "\n",
    "We start by loading the packages."
   ]
  },
  {
   "cell_type": "code",
   "execution_count": 1,
   "metadata": {},
   "outputs": [],
   "source": [
    "using QuantumCumulants\n",
    "using OrdinaryDiffEq, SteadyStateDiffEq, ModelingToolkit\n",
    "using Plots"
   ]
  },
  {
   "cell_type": "markdown",
   "metadata": {},
   "source": [
    "The Hilbert space for this system is given by one cavity mode and $N$ two-level atoms. We use here symbolic indices, sums and double sums to define the system. \n",
    "The parameters $g_j, \\, \\Gamma_{ij}$ and $\\Omega_{ij}$ are defined as indexed variables of atom $i$ and $j$. We will describe the system in first order mean-field."
   ]
  },
  {
   "cell_type": "code",
   "execution_count": null,
   "metadata": {},
   "outputs": [],
   "source": [
    "# Hilbert space\n",
    "hc = FockSpace(:cavity)\n",
    "ha = NLevelSpace(Symbol(:atom),2)\n",
    "h = hc ⊗ ha\n",
    "\n",
    "# Parameter\n",
    "@cnumbers N Δc η Δa κ\n",
    "g(i) = IndexedVariable(:g,i)\n",
    "Γ(i,j) = IndexedVariable(:Γ,i,j)\n",
    "Ω(i,j) = IndexedVariable(:Ω,i,j;identical=false) \n",
    "\n",
    "# Indices\n",
    "i = Index(h,:i,N,ha)\n",
    "j = Index(h,:j,N,ha)"
   ]
  },
  {
   "cell_type": "markdown",
   "metadata": {},
   "source": [
    "The kwarg ’identical=false’ for the double indexed variable specifies that $\\Omega_{ij} = 0$ for $i = j$.\n",
    "Now we create the operators on the composite Hilbert space using the $\\texttt{IndexedOperator}$ constructor, which assigns each $\\texttt{Transition}$ operator an $\\texttt{Index}$."
   ]
  },
  {
   "cell_type": "code",
   "execution_count": null,
   "metadata": {},
   "outputs": [],
   "source": [
    "@qnumbers a::Destroy(h)\n",
    "σ(x,y,k) = IndexedOperator(Transition(h,:σ,x,y),k)\n",
    "nothing # hide"
   ]
  },
  {
   "cell_type": "markdown",
   "metadata": {},
   "source": [
    "We define the Hamiltonian and Liouvillian. For the collective atomic decay we write the corresponding jump process with a double indexed variable $R_{ij}$ and an indexed jump operator $J_j$, such that an operator average $\\langle \\mathcal{O} \\rangle$ follows the equation "
   ]
  },
  {
   "cell_type": "markdown",
   "metadata": {},
   "source": [
    "\\begin{equation}\n",
    "\\langle \\dot{\\mathcal{O}} \\rangle = \\sum_{ij} R_{ij} \\left( \\langle J_i^\\dagger \\mathcal{O} J_j \\rangle - \\frac{1}{2} \\langle J_i^\\dagger J_j \\mathcal{O} \\rangle - \\frac{1}{2} \\langle \\mathcal{O} J_i^\\dagger J_j \\rangle \\right).\n",
    "\\end{equation}"
   ]
  },
  {
   "cell_type": "code",
   "execution_count": null,
   "metadata": {},
   "outputs": [],
   "source": [
    "# Hamiltonian\n",
    "Hc = Δc*a'a + η*(a' + a)\n",
    "Ha = Δa*Σ(σ(2,2,i),i) + Σ(Ω(i,j)*σ(2,1,i)*σ(1,2,j),j,i)\n",
    "Hi = Σ(g(i)*(a'*σ(1,2,i) + a*σ(2,1,i)),i)\n",
    "H = Hc + Ha + Hi\n",
    "\n",
    "# Jump operators & and rates\n",
    "J = [a, σ(1,2,i)] \n",
    "rates = [κ, Γ(i,j)]\n",
    "nothing # hide"
   ]
  },
  {
   "cell_type": "markdown",
   "metadata": {},
   "source": [
    "We derive the system of equations in first order mean-field."
   ]
  },
  {
   "cell_type": "code",
   "execution_count": null,
   "metadata": {},
   "outputs": [],
   "source": [
    "eqs = meanfield(a,H,J;rates=rates,order=1)\n",
    "complete!(eqs)"
   ]
  },
  {
   "cell_type": "markdown",
   "metadata": {},
   "source": [
    "To create the equations for a specific number of atoms we use the function $\\texttt{evaluate}$."
   ]
  },
  {
   "cell_type": "code",
   "execution_count": null,
   "metadata": {},
   "outputs": [],
   "source": [
    "N_ = 2\n",
    "eqs_ = evaluate(eqs;limits=(N=>N_))\n",
    "@named sys = ODESystem(eqs_)\n",
    "nothing # hide"
   ]
  },
  {
   "cell_type": "markdown",
   "metadata": {},
   "source": [
    "Finally we need to define the initial state of the system and the numerical parameters. In the end we want to obtain the transmission rate $T$ of our system. For this purpose we calculate the steady state photon number in the cavity $|\\langle a \\rangle|^2$ for different laser frequencies."
   ]
  },
  {
   "cell_type": "code",
   "execution_count": null,
   "metadata": {},
   "outputs": [],
   "source": [
    "u0 = zeros(ComplexF64, length(eqs_))\n",
    "# parameter\n",
    "Γ_ = 1.0\n",
    "d = 2π*0.08 #0.08λ\n",
    "θ = π/2\n",
    "\n",
    "Ωij(i,j) = i==j ? 0 : Γ_*(-3/4)*( (1-(cos(θ))^2)*cos(d)/d-(1-3*(cos(θ))^2)*(sin(d)/(d^2)+(cos(d)/(d^3))) )\n",
    "Γij(i,j) = i==j ? Γ_ : Γ_*(3/2)*( (1-(cos(θ))^2)*sin(d)/d+(1-3*(cos(θ))^2)*((cos(d)/(d^2))-(sin(d)/(d^3))))\n",
    "\n",
    "g_ = 2Γ_\n",
    "κ_ = 20Γ_\n",
    "Δa_ = 0Γ_\n",
    "Δc_ = 0Γ_\n",
    "η_ = κ_/100\n",
    "\n",
    "gi_ls = [g(i) for i=1:N_]\n",
    "Γij_ls = [Γ(i,j) for i = 1:N_ for j=1:N_]\n",
    "Ωij_ls = [Ω(i,j) for i = 1:N_ for j=1:N_ if i≠j]\n",
    "\n",
    "# list of symbolic indexed parameters \n",
    "gi_ = [g_*(-1)^i for i=1:N_]\n",
    "Γij_ = [Γij(i,j) for i = 1:N_ for j=1:N_]\n",
    "Ωij_ = [Ωij(i,j) for i = 1:N_ for j=1:N_ if i≠j]\n",
    "\n",
    "ps = [Δc; η; Δa; κ; gi_ls; Γij_ls; Ωij_ls]\n",
    "p0 = [Δc_; η_; Δa_; κ_; gi_; Γij_; Ωij_]\n",
    "nothing # hide"
   ]
  },
  {
   "cell_type": "code",
   "execution_count": null,
   "metadata": {},
   "outputs": [],
   "source": [
    "Δ_ls = [-10:0.05:10;]Γ_\n",
    "n_ls = zeros(length(Δ_ls))\n",
    "\n",
    "# definitions for fast replacement of numerical parameter \n",
    "prob = ODEProblem(sys,u0,(0.0, 20), ps.=>p0)\n",
    "prob_ss = SteadyStateProblem(prob)\n",
    "\n",
    "for i=1:length(Δ_ls)\n",
    "    Δc_ = Δ_ls[i]\n",
    "    Δa_ = Δc_ + Ωij(1,2) # cavity on resonace with the shifted collective emitter\n",
    "    p0_ = [Δc_; η_; Δa_; κ_; gi_; Γij_; Ωij_]\n",
    "    \n",
    "    # create (remake) new SteadyStateProblem\n",
    "    prob_ss_ = SteadyStateProblem(sys,u0,ps.=>p0_)\n",
    "    sol_ss = solve(prob_ss_, SSRootfind())\n",
    "    n_ls[i] = abs2(sol_ss[a])\n",
    "end"
   ]
  },
  {
   "cell_type": "markdown",
   "metadata": {},
   "source": [
    "The transmission rate $T$ with respect to the pump laser detuning is given by the relative steady state intra-cavity photon number $n(\\Delta)/n_\\mathrm{max}$. We qualitatively reproduce the antiresonance from [D. Plankensteiner, et. al., Phys. Rev. Lett. 119, 093601 (2017)](https://journals.aps.org/prl/abstract/10.1103/PhysRevLett.119.093601) for two atoms."
   ]
  },
  {
   "cell_type": "code",
   "execution_count": null,
   "metadata": {},
   "outputs": [],
   "source": [
    "T = n_ls ./ maximum(n_ls)\n",
    "plot(Δ_ls, T, xlabel=\"Δ/Γ\", ylabel=\"T\", legend=false)\n",
    "savefig(\"cavity_antiresonance_indexed.svg\") # hide"
   ]
  }
 ],
 "metadata": {
  "@webio": {
   "lastCommId": null,
   "lastKernelId": null
  },
  "kernelspec": {
   "display_name": "Julia 1.10.2",
   "language": "julia",
   "name": "julia-1.10"
  },
  "language_info": {
   "file_extension": ".jl",
   "mimetype": "application/julia",
   "name": "julia",
   "version": "1.10.2"
  }
 },
 "nbformat": 4,
 "nbformat_minor": 4
}
